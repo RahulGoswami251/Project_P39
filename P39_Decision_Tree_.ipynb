{
  "nbformat": 4,
  "nbformat_minor": 0,
  "metadata": {
    "colab": {
      "name": "P39_Decision Tree .ipynb",
      "provenance": [],
      "collapsed_sections": []
    },
    "kernelspec": {
      "display_name": "Python 3",
      "language": "python",
      "name": "python3"
    },
    "language_info": {
      "codemirror_mode": {
        "name": "ipython",
        "version": 3
      },
      "file_extension": ".py",
      "mimetype": "text/x-python",
      "name": "python",
      "nbconvert_exporter": "python",
      "pygments_lexer": "ipython3",
      "version": "3.8.5"
    }
  },
  "cells": [
    {
      "source": [
        "# Model Building Process"
      ],
      "cell_type": "markdown",
      "metadata": {}
    },
    {
      "cell_type": "code",
      "metadata": {
        "id": "azc5EjqtAfXi"
      },
      "source": [
        "# Import the model dataset \n",
        "import pandas as pd\n",
        "df = pd.read_csv(\"Model_data.csv\")"
      ],
      "execution_count": 1,
      "outputs": []
    },
    {
      "cell_type": "code",
      "metadata": {
        "colab": {
          "base_uri": "https://localhost:8080/"
        },
        "id": "qUYwPLok1MSv",
        "outputId": "d7228fd8-fef7-49e1-9ac3-a3faf83f5c22"
      },
      "source": [
        "## Applying CountVectorizer & TFIDF \n",
        "# Extracting features by CountVectorizer from reviews \n",
        "from sklearn.feature_extraction.text import CountVectorizer\n",
        "count_vect = CountVectorizer()\n",
        "reviews_feature_cv = count_vect.fit_transform(df.JwMarriot_reviews).toarray()\n",
        "reviews_feature_cv.shape"
      ],
      "execution_count": 2,
      "outputs": [
        {
          "output_type": "execute_result",
          "data": {
            "text/plain": [
              "(3000, 11259)"
            ]
          },
          "metadata": {
            "tags": []
          },
          "execution_count": 2
        }
      ]
    },
    {
      "cell_type": "code",
      "metadata": {
        "colab": {
          "base_uri": "https://localhost:8080/"
        },
        "id": "yeaFEIznGOT1",
        "outputId": "24f1aa70-7588-4320-eb8a-01e6e208d4b5"
      },
      "source": [
        "# Extracting features by TFIDF from reviews\n",
        "from sklearn.feature_extraction.text import TfidfTransformer\n",
        "tfidf_transformer = TfidfTransformer()\n",
        "reviews_feature_tfidf = tfidf_transformer.fit_transform(reviews_feature_cv).toarray()\n",
        "reviews_feature_tfidf.shape"
      ],
      "execution_count": 3,
      "outputs": [
        {
          "output_type": "execute_result",
          "data": {
            "text/plain": [
              "(3000, 11259)"
            ]
          },
          "metadata": {
            "tags": []
          },
          "execution_count": 3
        }
      ]
    },
    {
      "cell_type": "code",
      "metadata": {
        "id": "Hob7kHxr50dT",
        "colab": {
          "base_uri": "https://localhost:8080/"
        },
        "outputId": "b86a2e06-c1b8-4d24-b621-764410b689c8"
      },
      "source": [
        "## Aplying SMOTE oversampling technique for removing class imbalance \n",
        "from imblearn.over_sampling import SMOTE\n",
        "over_sample = SMOTE(random_state = 50, sampling_strategy = \"all\")"
      ],
      "execution_count": 4,
      "outputs": [
        {
          "output_type": "stream",
          "text": [
            "/usr/local/lib/python3.6/dist-packages/sklearn/externals/six.py:31: FutureWarning: The module is deprecated in version 0.21 and will be removed in version 0.23 since we've dropped support for Python 2.7. Please rely on the official version of six (https://pypi.org/project/six/).\n",
            "  \"(https://pypi.org/project/six/).\", FutureWarning)\n",
            "/usr/local/lib/python3.6/dist-packages/sklearn/utils/deprecation.py:144: FutureWarning: The sklearn.neighbors.base module is  deprecated in version 0.22 and will be removed in version 0.24. The corresponding classes / functions should instead be imported from sklearn.neighbors. Anything that cannot be imported from sklearn.neighbors is now part of the private API.\n",
            "  warnings.warn(message, FutureWarning)\n"
          ],
          "name": "stderr"
        }
      ]
    },
    {
      "cell_type": "code",
      "metadata": {
        "colab": {
          "base_uri": "https://localhost:8080/"
        },
        "id": "roubRh0K50ts",
        "outputId": "08cc8620-7b52-4329-eba7-9e2e4988d85f"
      },
      "source": [
        "X_oversample, y_oversample = over_sample.fit_sample(reviews_feature_cv, df['Sentiments']) "
      ],
      "execution_count": 5,
      "outputs": [
        {
          "output_type": "stream",
          "text": [
            "/usr/local/lib/python3.6/dist-packages/sklearn/utils/deprecation.py:87: FutureWarning: Function safe_indexing is deprecated; safe_indexing is deprecated in version 0.22 and will be removed in version 0.24.\n",
            "  warnings.warn(msg, category=FutureWarning)\n",
            "/usr/local/lib/python3.6/dist-packages/sklearn/utils/deprecation.py:87: FutureWarning: Function safe_indexing is deprecated; safe_indexing is deprecated in version 0.22 and will be removed in version 0.24.\n",
            "  warnings.warn(msg, category=FutureWarning)\n"
          ],
          "name": "stderr"
        }
      ]
    },
    {
      "cell_type": "code",
      "metadata": {
        "colab": {
          "base_uri": "https://localhost:8080/"
        },
        "id": "NmpqcuGREt74",
        "outputId": "e163aeb8-6cbd-4667-bfb3-122d8802ddfb"
      },
      "source": [
        "# Total count of target classes or 'Sentiments' \n",
        "len(y_oversample)"
      ],
      "execution_count": 6,
      "outputs": [
        {
          "output_type": "execute_result",
          "data": {
            "text/plain": [
              "8589"
            ]
          },
          "metadata": {
            "tags": []
          },
          "execution_count": 6
        }
      ]
    },
    {
      "cell_type": "code",
      "metadata": {
        "colab": {
          "base_uri": "https://localhost:8080/"
        },
        "id": "Ns7DnXcoQmtb",
        "outputId": "25d8733f-8ba7-4855-c7c5-d12482b987d9"
      },
      "source": [
        "# Total number of reviews features with classes \n",
        "X_oversample.shape"
      ],
      "execution_count": 7,
      "outputs": [
        {
          "output_type": "execute_result",
          "data": {
            "text/plain": [
              "(8589, 11259)"
            ]
          },
          "metadata": {
            "tags": []
          },
          "execution_count": 7
        }
      ]
    },
    {
      "cell_type": "code",
      "metadata": {
        "colab": {
          "base_uri": "https://localhost:8080/"
        },
        "id": "wc4CtATPI9X1",
        "outputId": "d395be5a-6d3f-44b0-c1bf-847387346acd"
      },
      "source": [
        "# Count of Sentiments or target classes \n",
        "import collections, numpy\n",
        "collections.Counter(y_oversample)"
      ],
      "execution_count": 8,
      "outputs": [
        {
          "output_type": "execute_result",
          "data": {
            "text/plain": [
              "Counter({0: 2863, 1: 2863, 2: 2863})"
            ]
          },
          "metadata": {
            "tags": []
          },
          "execution_count": 8
        }
      ]
    },
    {
      "cell_type": "code",
      "metadata": {
        "colab": {
          "base_uri": "https://localhost:8080/",
          "height": 383
        },
        "id": "6rNThs_BEHX7",
        "outputId": "2e6e6222-612c-4737-e419-5ec2a11b5cdd"
      },
      "source": [
        "# Sentiments across reviews \n",
        "import seaborn as sns \n",
        "import matplotlib.pyplot as plt\n",
        "from wordcloud import WordCloud\n",
        "sns.displot(y_oversample, kde = False,  label = \"VADER\")\n",
        "plt.xlabel(\"Number of sentiments\")\n",
        "plt.ylabel(\"Number of reviews\")\n",
        "plt.legend()\n",
        "plt.show()"
      ],
      "execution_count": 9,
      "outputs": [
        {
          "output_type": "display_data",
          "data": {
            "image/png": "[encoded data removed]",
            "text/plain": [
              "<Figure size 360x360 with 1 Axes>"
            ]
          },
          "metadata": {
            "tags": [],
            "needs_background": "light"
          }
        }
      ]
    },
    {
      "cell_type": "code",
      "metadata": {
        "id": "KwVafrSnvYdJ"
      },
      "source": [
        "# Split data into train & test \n",
        "def split_into_words(i):\n",
        "    return (i.split(\" \"))"
      ],
      "execution_count": 10,
      "outputs": []
    },
    {
      "cell_type": "code",
      "metadata": {
        "id": "X9Gb3X1VSeuZ"
      },
      "source": [
        "seed = 7"
      ],
      "execution_count": 11,
      "outputs": []
    },
    {
      "cell_type": "code",
      "metadata": {
        "id": "iV2oNo0zvYi8"
      },
      "source": [
        "from sklearn.model_selection import train_test_split\n",
        "x_train,x_test,y_train,y_test = train_test_split(X_oversample,y_oversample,test_size=0.2)"
      ],
      "execution_count": 12,
      "outputs": []
    },
    {
      "cell_type": "code",
      "metadata": {
        "colab": {
          "base_uri": "https://localhost:8080/"
        },
        "id": "csDCzbgDUmG1",
        "outputId": "265cb119-832a-4ce3-a8df-1a1d7468da2e"
      },
      "source": [
        "x_train.shape"
      ],
      "execution_count": 13,
      "outputs": [
        {
          "output_type": "execute_result",
          "data": {
            "text/plain": [
              "(6871, 11259)"
            ]
          },
          "metadata": {
            "tags": []
          },
          "execution_count": 13
        }
      ]
    },
    {
      "cell_type": "code",
      "metadata": {
        "colab": {
          "base_uri": "https://localhost:8080/"
        },
        "id": "j1btYtz2VAOx",
        "outputId": "8d679540-d46f-4d5f-cb59-4718c55a751f"
      },
      "source": [
        "y_train.shape"
      ],
      "execution_count": 14,
      "outputs": [
        {
          "output_type": "execute_result",
          "data": {
            "text/plain": [
              "(6871,)"
            ]
          },
          "metadata": {
            "tags": []
          },
          "execution_count": 14
        }
      ]
    },
    {
      "cell_type": "code",
      "metadata": {
        "colab": {
          "base_uri": "https://localhost:8080/"
        },
        "id": "-z-oeFcPUzKG",
        "outputId": "0e26d241-1661-49dd-8b1b-42eaae0f4b63"
      },
      "source": [
        "x_test.shape"
      ],
      "execution_count": 15,
      "outputs": [
        {
          "output_type": "execute_result",
          "data": {
            "text/plain": [
              "(1718, 11259)"
            ]
          },
          "metadata": {
            "tags": []
          },
          "execution_count": 15
        }
      ]
    },
    {
      "cell_type": "code",
      "metadata": {
        "colab": {
          "base_uri": "https://localhost:8080/"
        },
        "id": "LIzFZreoVJkK",
        "outputId": "ea31a78e-5c51-478f-b51e-fd12a1d7ab1d"
      },
      "source": [
        "y_test.shape"
      ],
      "execution_count": 16,
      "outputs": [
        {
          "output_type": "execute_result",
          "data": {
            "text/plain": [
              "(1718,)"
            ]
          },
          "metadata": {
            "tags": []
          },
          "execution_count": 16
        }
      ]
    },
    {
      "source": [
        "# Decision Tree Classifier "
      ],
      "cell_type": "markdown",
      "metadata": {}
    },
    {
      "cell_type": "code",
      "metadata": {
        "id": "Aq-oMnyUlfyO"
      },
      "source": [
        "# Decision Tree Classifier \n",
        "from sklearn import tree\n",
        "model10 = tree.DecisionTreeClassifier(random_state=50,class_weight=\"balanced\")\n",
        "DT_clf = model10.fit(x_train, y_train)"
      ],
      "execution_count": 27,
      "outputs": []
    },
    {
      "cell_type": "code",
      "metadata": {
        "colab": {
          "base_uri": "https://localhost:8080/",
          "height": 1000
        },
        "id": "8Q0_QE_Xg-Xy",
        "outputId": "416fcbaa-d7ce-4c91-e781-2986d1ae4570"
      },
      "source": [
        "tree.plot_tree(DT_clf) "
      ],
      "execution_count": 28,
      "outputs": [
        {
          "output_type": "execute_result",
          "data": {
            "text/plain": [
              "[Text(313.6673105868962, 216.19034482758622, 'X[4260] <= 0.5\\ngini = 0.667\\nsamples = 6871\\nvalue = [2290.333, 2290.333, 2290.333]'),\n",
              " Text(299.27350497983076, 213.69103448275862, 'X[5270] <= 0.5\\ngini = 0.657\\nsamples = 6090\\nvalue = [2290.333, 1547.846, 2252.919]'),\n",
              " Text(287.333103280796, 211.19172413793103, 'X[1295] <= 0.5\\ngini = 0.641\\nsamples = 5646\\nvalue = [2288.351, 1138.68, 2220.562]'),\n",
              " Text(281.5247609989205, 208.69241379310344, 'X[1079] <= 0.5\\ngini = 0.618\\nsamples = 5264\\nvalue = [2286.369, 813.343, 2165.958]'),\n",
              " Text(276.6469602412078, 206.19310344827585, 'X[2801] <= 0.5\\ngini = 0.603\\nsamples = 5106\\nvalue = [2286.369, 656.662, 2164.946]'),\n",
              " Text(270.5671135290762, 203.6937931034483, 'X[10672] <= 0.5\\ngini = 0.604\\nsamples = 4827\\nvalue = [2286.369, 650.674, 1888.893]'),\n",
              " Text(264.53367811030245, 201.1944827586207, 'X[10995] <= 0.5\\ngini = 0.612\\nsamples = 4537\\nvalue = [1999.954, 649.676, 1888.893]'),\n",
              " Text(256.1425620760486, 198.6951724137931, 'X[10993] <= 0.5\\ngini = 0.599\\nsamples = 4419\\nvalue = [1999.954, 534.91, 1885.859]'),\n",
              " Text(246.71183961412828, 196.1958620689655, 'X[3367] <= 0.5\\ngini = 0.601\\nsamples = 4162\\nvalue = [1758.136, 522.934, 1884.848]'),\n",
              " Text(235.201904296875, 193.69655172413792, 'X[6578] <= 0.5\\ngini = 0.587\\nsamples = 4026\\nvalue = [1757.145, 414.156, 1858.557]'),\n",
              " Text(225.65980127444536, 191.19724137931036, 'X[9481] <= 0.5\\ngini = 0.573\\nsamples = 3926\\nvalue = [1757.145, 329.329, 1843.39]'),\n",
              " Text(215.1523564372713, 188.69793103448276, 'X[4664] <= 0.5\\ngini = 0.57\\nsamples = 3726\\nvalue = [1757.145, 298.392, 1672.499]'),\n",
              " Text(206.38998277390212, 186.19862068965517, 'X[1715] <= 0.5\\ngini = 0.57\\nsamples = 3566\\nvalue = [1613.441, 283.423, 1672.499]'),\n",
              " Text(198.054622455398, 183.69931034482758, 'X[9435] <= 0.5\\ngini = 0.57\\nsamples = 3431\\nvalue = [1482.622, 280.429, 1672.499]'),\n",
              " Text(185.05965662168344, 181.2, 'X[3322] <= 0.5\\ngini = 0.554\\nsamples = 3027\\nvalue = [1446.944, 181.63, 1400.491]'),\n",
              " Text(178.98006347209517, 178.70068965517243, 'X[8389] <= 0.5\\ngini = 0.553\\nsamples = 2855\\nvalue = [1294.321, 166.66, 1397.457]'),\n",
              " Text(171.72188357731017, 176.20137931034483, 'X[7794] <= 0.5\\ngini = 0.552\\nsamples = 1993\\nvalue = [1038.628, 125.744, 828.16]'),\n",
              " Text(163.63809469350412, 173.70206896551724, 'X[6398] <= 0.5\\ngini = 0.547\\nsamples = 1916\\nvalue = [1038.628, 121.752, 754.344]'),\n",
              " Text(153.59677493138153, 171.20275862068965, 'X[9519] <= 0.5\\ngini = 0.538\\nsamples = 1835\\nvalue = [1038.628, 114.766, 679.516]'),\n",
              " Text(143.3161482159195, 168.70344827586206, 'X[5310] <= 0.5\\ngini = 0.524\\nsamples = 1715\\nvalue = [1017.816, 104.786, 589.521]'),\n",
              " Text(136.2326623970723, 166.2041379310345, 'X[6533] <= 0.5\\ngini = 0.51\\nsamples = 1653\\nvalue = [1015.834, 91.813, 541.995]'),\n",
              " Text(130.64245196706312, 163.7048275862069, 'X[336] <= 0.5\\ngini = 0.501\\nsamples = 1612\\nvalue = [1015.834, 90.815, 501.548]'),\n",
              " Text(123.13778591033852, 161.2055172413793, 'X[6823] <= 0.5\\ngini = 0.477\\nsamples = 1490\\nvalue = [982.138, 74.847, 428.742]'),\n",
              " Text(116.70521500457457, 158.70620689655172, 'X[1705] <= 0.5\\ngini = 0.459\\nsamples = 1449\\nvalue = [982.138, 62.872, 399.418]'),\n",
              " Text(112.41683440073194, 156.20689655172413, 'X[2728] <= 0.5\\ngini = 0.445\\nsamples = 1415\\nvalue = [982.138, 58.88, 369.082]'),\n",
              " Text(109.96633119853614, 153.70758620689656, 'X[845] <= 0.5\\ngini = 0.432\\nsamples = 1388\\nvalue = [982.138, 56.884, 343.803]'),\n",
              " Text(108.74107959743824, 151.20827586206897, 'X[4701] <= 0.5\\ngini = 0.421\\nsamples = 1366\\nvalue = [982.138, 56.884, 321.557]'),\n",
              " Text(106.29057639524245, 148.70896551724138, 'X[10022] <= 0.5\\ngini = 0.408\\nsamples = 1342\\nvalue = [982.138, 54.888, 299.311]'),\n",
              " Text(105.06532479414456, 146.20965517241382, 'X[1422] <= 0.5\\ngini = 0.396\\nsamples = 1322\\nvalue = [982.138, 54.888, 279.087]'),\n",
              " Text(100.77694419030193, 143.7103448275862, 'X[7451] <= 0.5\\ngini = 0.38\\nsamples = 1298\\nvalue = [982.138, 49.898, 259.874]'),\n",
              " Text(99.55169258920404, 141.21103448275863, 'X[5647] <= 0.5\\ngini = 0.369\\nsamples = 1281\\nvalue = [982.138, 49.898, 242.684]'),\n",
              " Text(97.10118938700823, 138.71172413793104, 'X[7345] <= 0.5\\ngini = 0.353\\nsamples = 1261\\nvalue = [982.138, 46.904, 225.494]'),\n",
              " Text(95.87593778591034, 136.21241379310345, 'X[11151] <= 0.5\\ngini = 0.341\\nsamples = 1248\\nvalue = [982.138, 33.931, 225.494]'),\n",
              " Text(94.65068618481244, 133.7131034482759, 'X[1014] <= 0.5\\ngini = 0.332\\nsamples = 1237\\nvalue = [982.138, 33.931, 214.371]'),\n",
              " Text(93.42543458371455, 131.21379310344827, 'X[10646] <= 0.5\\ngini = 0.323\\nsamples = 1226\\nvalue = [982.138, 33.931, 203.248]'),\n",
              " Text(92.20018298261665, 128.7144827586207, 'X[11188] <= 0.5\\ngini = 0.313\\nsamples = 1215\\nvalue = [982.138, 33.931, 192.125]'),\n",
              " Text(89.74967978042086, 126.21517241379311, 'X[5888] <= 0.5\\ngini = 0.302\\nsamples = 1203\\nvalue = [982.138, 32.933, 181.002]'),\n",
              " Text(88.52442817932297, 123.71586206896552, 'X[3310] <= 0.5\\ngini = 0.293\\nsamples = 1193\\nvalue = [982.138, 32.933, 170.89]'),\n",
              " Text(83.92973467520586, 121.21655172413794, 'X[5933] <= 0.5\\ngini = 0.273\\nsamples = 1157\\nvalue = [968.263, 31.935, 149.655]'),\n",
              " Text(80.86660567246112, 118.71724137931035, 'X[5525] <= 0.5\\ngini = 0.261\\nsamples = 1146\\nvalue = [968.263, 30.937, 139.543]'),\n",
              " Text(78.41610247026533, 116.21793103448276, 'X[8696] <= 0.5\\ngini = 0.249\\nsamples = 1135\\nvalue = [968.263, 27.943, 131.454]'),\n",
              " Text(77.19085086916743, 113.71862068965518, 'X[4323] <= 0.5\\ngini = 0.239\\nsamples = 1127\\nvalue = [968.263, 27.943, 123.365]'),\n",
              " Text(75.96559926806954, 111.21931034482759, 'X[9526] <= 0.5\\ngini = 0.231\\nsamples = 1120\\nvalue = [968.263, 27.943, 116.286]'),\n",
              " Text(74.74034766697164, 108.72000000000001, 'X[3131] <= 0.5\\ngini = 0.222\\nsamples = 1113\\nvalue = [968.263, 27.943, 109.208]'),\n",
              " Text(73.51509606587375, 106.22068965517242, 'X[361] <= 0.5\\ngini = 0.215\\nsamples = 1107\\nvalue = [968.263, 27.943, 103.141]'),\n",
              " Text(72.28984446477585, 103.72137931034483, 'X[4925] <= 0.5\\ngini = 0.208\\nsamples = 1102\\nvalue = [968.263, 22.953, 103.141]'),\n",
              " Text(71.06459286367796, 101.22206896551725, 'X[7353] <= 0.5\\ngini = 0.201\\nsamples = 1097\\nvalue = [968.263, 17.963, 103.141]'),\n",
              " Text(68.00146386093321, 98.72275862068966, 'X[6560] <= 0.5\\ngini = 0.193\\nsamples = 1091\\nvalue = [968.263, 16.965, 98.085]'),\n",
              " Text(65.55096065873742, 96.22344827586208, 'X[11150] <= 0.5\\ngini = 0.171\\nsamples = 1040\\nvalue = [936.549, 16.965, 78.872]'),\n",
              " Text(64.32570905763953, 93.72413793103449, 'X[6709] <= 0.5\\ngini = 0.163\\nsamples = 1035\\nvalue = [936.549, 16.965, 73.816]'),\n",
              " Text(60.95626715462031, 91.22482758620691, 'X[2079] <= 0.5\\ngini = 0.156\\nsamples = 1030\\nvalue = [936.549, 15.967, 69.772]'),\n",
              " Text(57.893138151875576, 88.72551724137932, 'X[9466] <= 0.5\\ngini = 0.148\\nsamples = 1025\\nvalue = [936.549, 14.969, 65.727]'),\n",
              " Text(55.442634949679785, 86.22620689655173, 'X[5795] <= 0.5\\ngini = 0.142\\nsamples = 1021\\nvalue = [936.549, 13.972, 62.693]'),\n",
              " Text(54.21738334858189, 83.72689655172414, 'X[10775] <= 0.5\\ngini = 0.137\\nsamples = 1018\\nvalue = [936.549, 10.978, 62.693]'),\n",
              " Text(52.992131747483995, 81.22758620689658, 'X[6006] <= 0.5\\ngini = 0.131\\nsamples = 1015\\nvalue = [936.549, 7.984, 62.693]'),\n",
              " Text(51.76688014638609, 78.72827586206898, 'X[2573] <= 0.5\\ngini = 0.127\\nsamples = 1012\\nvalue = [936.549, 7.984, 59.66]'),\n",
              " Text(48.703751143641355, 76.22896551724139, 'X[5723] <= 0.5\\ngini = 0.122\\nsamples = 1009\\nvalue = [936.549, 6.986, 57.638]'),\n",
              " Text(46.253247941445565, 73.7296551724138, 'X[3589] <= 0.5\\ngini = 0.116\\nsamples = 1006\\nvalue = [936.549, 5.988, 55.615]'),\n",
              " Text(45.02799634034767, 71.23034482758621, 'X[10043] <= 0.5\\ngini = 0.113\\nsamples = 1004\\nvalue = [936.549, 3.992, 55.615]'),\n",
              " Text(43.802744739249775, 68.73103448275864, 'X[6966] <= 0.5\\ngini = 0.109\\nsamples = 1002\\nvalue = [936.549, 1.996, 55.615]'),\n",
              " Text(42.57749313815188, 66.23172413793105, 'X[10426] <= 0.5\\ngini = 0.106\\nsamples = 1000\\nvalue = [936.549, 1.996, 53.593]'),\n",
              " Text(41.352241537053985, 63.73241379310346, 'X[6369] <= 0.5\\ngini = 0.103\\nsamples = 998\\nvalue = [936.549, 1.996, 51.57]'),\n",
              " Text(40.12698993595609, 61.23310344827587, 'X[1095] <= 0.5\\ngini = 0.099\\nsamples = 996\\nvalue = [936.549, 1.996, 49.548]'),\n",
              " Text(38.90173833485819, 58.73379310344828, 'X[10940] <= 0.5\\ngini = 0.097\\nsamples = 995\\nvalue = [936.549, 0.998, 49.548]'),\n",
              " Text(37.67648673376029, 56.234482758620715, 'X[7404] <= 0.5\\ngini = 0.095\\nsamples = 994\\nvalue = [936.549, 0.0, 49.548]'),\n",
              " Text(36.4512351326624, 53.73517241379312, 'X[5355] <= 0.5\\ngini = 0.094\\nsamples = 993\\nvalue = [936.549, 0.0, 48.537]'),\n",
              " Text(35.2259835315645, 51.23586206896553, 'X[9513] <= 1.5\\ngini = 0.092\\nsamples = 992\\nvalue = [936.549, 0.0, 47.526]'),\n",
              " Text(34.00073193046661, 48.73655172413794, 'X[10989] <= 0.5\\ngini = 0.09\\nsamples = 991\\nvalue = [936.549, 0.0, 46.514]'),\n",
              " Text(32.77548032936871, 46.23724137931035, 'X[4177] <= 0.5\\ngini = 0.088\\nsamples = 990\\nvalue = [936.549, 0.0, 45.503]'),\n",
              " Text(31.550228728270817, 43.737931034482784, 'X[3834] <= 0.5\\ngini = 0.087\\nsamples = 989\\nvalue = [936.549, 0.0, 44.492]'),\n",
              " Text(26.34290942360476, 41.23862068965519, 'X[3314] <= 1.0\\ngini = 0.063\\nsamples = 844\\nvalue = [809.694, 0.0, 27.302]'),\n",
              " Text(25.117657822506864, 38.7393103448276, 'X[6540] <= 0.5\\ngini = 0.061\\nsamples = 843\\nvalue = [809.694, 0.0, 26.291]'),\n",
              " Text(23.89240622140897, 36.24000000000001, 'X[8815] <= 0.5\\ngini = 0.059\\nsamples = 842\\nvalue = [809.694, 0.0, 25.28]'),\n",
              " Text(19.604025617566332, 33.74068965517242, 'X[8398] <= 0.5\\ngini = 0.038\\nsamples = 625\\nvalue = [607.518, 0.0, 12.134]'),\n",
              " Text(17.153522415370542, 31.241379310344854, 'X[4678] <= 1.5\\ngini = 0.03\\nsamples = 599\\nvalue = [584.724, 0.0, 9.101]'),\n",
              " Text(15.928270814272645, 28.742068965517262, 'X[11156] <= 0.5\\ngini = 0.038\\nsamples = 468\\nvalue = [454.895, 0.0, 9.101]'),\n",
              " Text(14.703019213174748, 26.24275862068967, 'X[10151] <= 0.5\\ngini = 0.047\\nsamples = 381\\nvalue = [368.673, 0.0, 9.101]'),\n",
              " Text(13.477767612076853, 23.74344827586208, 'X[4678] <= 0.5\\ngini = 0.052\\nsamples = 341\\nvalue = [329.031, 0.0, 9.101]'),\n",
              " Text(11.027264409881061, 21.244137931034487, 'X[7832] <= 0.5\\ngini = 0.044\\nsamples = 319\\nvalue = [309.21, 0.0, 7.078]'),\n",
              " Text(9.802012808783166, 18.744827586206924, 'X[6010] <= 0.5\\ngini = 0.048\\nsamples = 288\\nvalue = [278.487, 0.0, 7.078]'),\n",
              " Text(8.576761207685271, 16.245517241379332, 'X[4184] <= 0.5\\ngini = 0.053\\nsamples = 263\\nvalue = [253.711, 0.0, 7.078]'),\n",
              " Text(7.351509606587374, 13.74620689655174, 'X[1867] <= 0.5\\ngini = 0.057\\nsamples = 245\\nvalue = [235.872, 0.0, 7.078]'),\n",
              " Text(6.126258005489479, 11.246896551724149, 'X[2893] <= 0.5\\ngini = 0.059\\nsamples = 234\\nvalue = [224.97, 0.0, 7.078]'),\n",
              " Text(4.901006404391583, 8.747586206896557, 'X[5144] <= 0.5\\ngini = 0.061\\nsamples = 227\\nvalue = [218.033, 0.0, 7.078]'),\n",
              " Text(3.675754803293687, 6.2482758620689935, 'X[11016] <= 0.5\\ngini = 0.062\\nsamples = 222\\nvalue = [213.077, 0.0, 7.078]'),\n",
              " Text(2.4505032021957915, 3.748965517241402, 'X[8199] <= 0.5\\ngini = 0.064\\nsamples = 217\\nvalue = [208.122, 0.0, 7.078]'),\n",
              " Text(1.2252516010978958, 1.24965517241381, 'gini = 0.065\\nsamples = 213\\nvalue = [204.158, 0.0, 7.078]'),\n",
              " Text(3.675754803293687, 1.24965517241381, 'gini = 0.0\\nsamples = 4\\nvalue = [3.964, 0.0, 0.0]'),\n",
              " Text(4.901006404391583, 3.748965517241402, 'gini = 0.0\\nsamples = 5\\nvalue = [4.955, 0.0, 0.0]'),\n",
              " Text(6.126258005489479, 6.2482758620689935, 'gini = 0.0\\nsamples = 5\\nvalue = [4.955, 0.0, 0.0]'),\n",
              " Text(7.351509606587374, 8.747586206896557, 'gini = 0.0\\nsamples = 7\\nvalue = [6.937, 0.0, 0.0]'),\n",
              " Text(8.576761207685271, 11.246896551724149, 'gini = 0.0\\nsamples = 11\\nvalue = [10.902, 0.0, 0.0]'),\n",
              " Text(9.802012808783166, 13.74620689655174, 'gini = 0.0\\nsamples = 18\\nvalue = [17.839, 0.0, 0.0]'),\n",
              " Text(11.027264409881061, 16.245517241379332, 'gini = 0.0\\nsamples = 25\\nvalue = [24.776, 0.0, 0.0]'),\n",
              " Text(12.252516010978958, 18.744827586206924, 'gini = 0.0\\nsamples = 31\\nvalue = [30.723, 0.0, 0.0]'),\n",
              " Text(15.928270814272645, 21.244137931034487, 'X[4184] <= 0.5\\ngini = 0.168\\nsamples = 22\\nvalue = [19.821, 0.0, 2.022]'),\n",
              " Text(14.703019213174748, 18.744827586206924, 'gini = 0.092\\nsamples = 21\\nvalue = [19.821, 0.0, 1.011]'),\n",
              " Text(17.153522415370542, 18.744827586206924, 'gini = 0.0\\nsamples = 1\\nvalue = [0.0, 0.0, 1.011]'),\n",
              " Text(15.928270814272645, 23.74344827586208, 'gini = 0.0\\nsamples = 40\\nvalue = [39.642, 0.0, 0.0]'),\n",
              " Text(17.153522415370542, 26.24275862068967, 'gini = 0.0\\nsamples = 87\\nvalue = [86.222, 0.0, 0.0]'),\n",
              " Text(18.378774016468437, 28.742068965517262, 'gini = 0.0\\nsamples = 131\\nvalue = [129.829, 0.0, 0.0]'),\n",
              " Text(22.054528819762123, 31.241379310344854, 'X[4678] <= 0.5\\ngini = 0.207\\nsamples = 26\\nvalue = [22.794, 0.0, 3.034]'),\n",
              " Text(20.829277218664227, 28.742068965517262, 'gini = -0.0\\nsamples = 23\\nvalue = [22.794, 0.0, 0.0]'),\n",
              " Text(23.27978042086002, 28.742068965517262, 'gini = 0.0\\nsamples = 3\\nvalue = [0.0, 0.0, 3.034]'),\n",
              " Text(28.1807868252516, 33.74068965517242, 'X[2800] <= 0.5\\ngini = 0.115\\nsamples = 217\\nvalue = [202.176, 0.0, 13.145]'),\n",
              " Text(26.955535224153707, 31.241379310344854, 'X[830] <= 0.5\\ngini = 0.167\\nsamples = 144\\nvalue = [129.829, 0.0, 13.145]'),\n",
              " Text(25.73028362305581, 28.742068965517262, 'X[4184] <= 0.5\\ngini = 0.236\\nsamples = 97\\nvalue = [83.249, 0.0, 13.145]'),\n",
              " Text(24.505032021957916, 26.24275862068967, 'X[4678] <= 1.5\\ngini = 0.343\\nsamples = 60\\nvalue = [46.58, 0.0, 13.145]'),\n",
              " Text(23.27978042086002, 23.74344827586208, 'X[9513] <= 0.5\\ngini = 0.475\\nsamples = 34\\nvalue = [20.812, 0.0, 13.145]'),\n",
              " Text(22.054528819762123, 21.244137931034487, 'X[349] <= 0.5\\ngini = 0.49\\nsamples = 23\\nvalue = [9.911, 0.0, 13.145]'),\n",
              " Text(20.829277218664227, 18.744827586206924, 'X[1479] <= 0.5\\ngini = 0.356\\nsamples = 17\\nvalue = [3.964, 0.0, 13.145]'),\n",
              " Text(19.604025617566332, 16.245517241379332, 'gini = 0.0\\nsamples = 13\\nvalue = [0.0, 0.0, 13.145]'),\n",
              " Text(22.054528819762123, 16.245517241379332, 'gini = -0.0\\nsamples = 4\\nvalue = [3.964, 0.0, 0.0]'),\n",
              " Text(23.27978042086002, 18.744827586206924, 'gini = 0.0\\nsamples = 6\\nvalue = [5.946, 0.0, 0.0]'),\n",
              " Text(24.505032021957916, 21.244137931034487, 'gini = 0.0\\nsamples = 11\\nvalue = [10.902, 0.0, 0.0]'),\n",
              " Text(25.73028362305581, 23.74344827586208, 'gini = 0.0\\nsamples = 26\\nvalue = [25.767, 0.0, 0.0]'),\n",
              " Text(26.955535224153707, 26.24275862068967, 'gini = 0.0\\nsamples = 37\\nvalue = [36.669, 0.0, 0.0]'),\n",
              " Text(28.1807868252516, 28.742068965517262, 'gini = -0.0\\nsamples = 47\\nvalue = [46.58, 0.0, 0.0]'),\n",
              " Text(29.406038426349497, 31.241379310344854, 'gini = 0.0\\nsamples = 73\\nvalue = [72.347, 0.0, 0.0]'),\n",
              " Text(26.34290942360476, 36.24000000000001, 'gini = -0.0\\nsamples = 1\\nvalue = [0.0, 0.0, 1.011]'),\n",
              " Text(27.568161024702654, 38.7393103448276, 'gini = -0.0\\nsamples = 1\\nvalue = [0.0, 0.0, 1.011]'),\n",
              " Text(36.757548032936874, 41.23862068965519, 'X[8398] <= 0.5\\ngini = 0.21\\nsamples = 145\\nvalue = [126.855, 0.0, 17.19]'),\n",
              " Text(35.53229643183898, 38.7393103448276, 'X[7719] <= 0.5\\ngini = 0.181\\nsamples = 142\\nvalue = [126.855, 0.0, 14.157]'),\n",
              " Text(34.307044830741084, 36.24000000000001, 'X[9513] <= 0.5\\ngini = 0.298\\nsamples = 78\\nvalue = [63.428, 0.0, 14.157]'),\n",
              " Text(33.08179322964319, 33.74068965517242, 'X[6146] <= 0.5\\ngini = 0.422\\nsamples = 47\\nvalue = [32.705, 0.0, 14.157]'),\n",
              " Text(31.85654162854529, 31.241379310344854, 'X[8815] <= 0.5\\ngini = 0.474\\nsamples = 23\\nvalue = [8.92, 0.0, 14.157]'),\n",
              " Text(30.631290027447395, 28.742068965517262, 'X[2800] <= 0.5\\ngini = 0.494\\nsamples = 20\\nvalue = [8.92, 0.0, 11.123]'),\n",
              " Text(29.406038426349497, 26.24275862068967, 'gini = 0.498\\nsamples = 19\\nvalue = [8.92, 0.0, 10.112]'),\n",
              " Text(31.85654162854529, 26.24275862068967, 'gini = 0.0\\nsamples = 1\\nvalue = [0.0, 0.0, 1.011]'),\n",
              " Text(33.08179322964319, 28.742068965517262, 'gini = 0.0\\nsamples = 3\\nvalue = [0.0, 0.0, 3.034]'),\n",
              " Text(34.307044830741084, 31.241379310344854, 'gini = 0.0\\nsamples = 24\\nvalue = [23.785, 0.0, 0.0]'),\n",
              " Text(35.53229643183898, 33.74068965517242, 'gini = 0.0\\nsamples = 31\\nvalue = [30.723, 0.0, 0.0]'),\n",
              " Text(36.757548032936874, 36.24000000000001, 'gini = -0.0\\nsamples = 64\\nvalue = [63.428, 0.0, 0.0]'),\n",
              " Text(37.98279963403477, 38.7393103448276, 'gini = 0.0\\nsamples = 3\\nvalue = [0.0, 0.0, 3.034]'),\n",
              " Text(34.00073193046661, 43.737931034482784, 'gini = -0.0\\nsamples = 1\\nvalue = [0.0, 0.0, 1.011]'),\n",
              " Text(35.2259835315645, 46.23724137931035, 'gini = -0.0\\nsamples = 1\\nvalue = [0.0, 0.0, 1.011]'),\n",
              " Text(36.4512351326624, 48.73655172413794, 'gini = -0.0\\nsamples = 1\\nvalue = [0.0, 0.0, 1.011]'),\n",
              " Text(37.67648673376029, 51.23586206896553, 'gini = -0.0\\nsamples = 1\\nvalue = [0.0, 0.0, 1.011]'),\n",
              " Text(38.90173833485819, 53.73517241379312, 'gini = -0.0\\nsamples = 1\\nvalue = [0.0, 0.0, 1.011]'),\n",
              " Text(40.12698993595609, 56.234482758620715, 'gini = -0.0\\nsamples = 1\\nvalue = [0.0, 0.998, 0.0]'),\n",
              " Text(41.352241537053985, 58.73379310344828, 'gini = -0.0\\nsamples = 1\\nvalue = [0.0, 0.998, 0.0]'),\n",
              " Text(42.57749313815188, 61.23310344827587, 'gini = -0.0\\nsamples = 2\\nvalue = [0.0, 0.0, 2.022]'),\n",
              " Text(43.802744739249775, 63.73241379310346, 'gini = -0.0\\nsamples = 2\\nvalue = [0.0, 0.0, 2.022]'),\n",
              " Text(45.02799634034767, 66.23172413793105, 'gini = -0.0\\nsamples = 2\\nvalue = [0.0, 0.0, 2.022]'),\n",
              " Text(46.253247941445565, 68.73103448275864, 'gini = -0.0\\nsamples = 2\\nvalue = [0.0, 1.996, 0.0]'),\n",
              " Text(47.47849954254346, 71.23034482758621, 'gini = -0.0\\nsamples = 2\\nvalue = [0.0, 1.996, 0.0]'),\n",
              " Text(51.154254345837145, 73.7296551724138, 'X[8815] <= 0.5\\ngini = 0.442\\nsamples = 3\\nvalue = [0.0, 0.998, 2.022]'),\n",
              " Text(49.92900274473925, 71.23034482758621, 'gini = 0.0\\nsamples = 1\\nvalue = [0.0, 0.998, 0.0]'),\n",
              " Text(52.37950594693505, 71.23034482758621, 'gini = 0.0\\nsamples = 2\\nvalue = [0.0, 0.0, 2.022]'),\n",
              " Text(54.83000914913084, 76.22896551724139, 'X[4678] <= 0.5\\ngini = 0.442\\nsamples = 3\\nvalue = [0.0, 0.998, 2.022]'),\n",
              " Text(53.60475754803294, 73.7296551724138, 'gini = 0.0\\nsamples = 1\\nvalue = [0.0, 0.998, 0.0]'),\n",
              " Text(56.05526075022873, 73.7296551724138, 'gini = 0.0\\nsamples = 2\\nvalue = [0.0, 0.0, 2.022]'),\n",
              " Text(54.21738334858189, 78.72827586206898, 'gini = -0.0\\nsamples = 3\\nvalue = [0.0, 0.0, 3.034]'),\n",
              " Text(55.442634949679785, 81.22758620689658, 'gini = -0.0\\nsamples = 3\\nvalue = [0.0, 2.994, 0.0]'),\n",
              " Text(56.66788655077768, 83.72689655172414, 'gini = -0.0\\nsamples = 3\\nvalue = [0.0, 2.994, 0.0]'),\n",
              " Text(60.343641354071366, 86.22620689655173, 'X[3834] <= 0.5\\ngini = 0.373\\nsamples = 4\\nvalue = [0.0, 0.998, 3.034]'),\n",
              " Text(59.11838975297347, 83.72689655172414, 'gini = 0.0\\nsamples = 1\\nvalue = [0.0, 0.998, 0.0]'),\n",
              " Text(61.56889295516926, 83.72689655172414, 'gini = -0.0\\nsamples = 3\\nvalue = [0.0, 0.0, 3.034]'),\n",
              " Text(64.01939615736505, 88.72551724137932, 'X[11156] <= 0.5\\ngini = 0.317\\nsamples = 5\\nvalue = [0.0, 0.998, 4.045]'),\n",
              " Text(62.794144556267156, 86.22620689655173, 'gini = 0.0\\nsamples = 1\\nvalue = [0.0, 0.998, 0.0]'),\n",
              " Text(65.24464775846295, 86.22620689655173, 'gini = -0.0\\nsamples = 4\\nvalue = [0.0, 0.0, 4.045]'),\n",
              " Text(67.69515096065874, 91.22482758620691, 'X[6008] <= 0.5\\ngini = 0.317\\nsamples = 5\\nvalue = [0.0, 0.998, 4.045]'),\n",
              " Text(66.46989935956084, 88.72551724137932, 'gini = 0.0\\nsamples = 4\\nvalue = [0.0, 0.0, 4.045]'),\n",
              " Text(68.92040256175663, 88.72551724137932, 'gini = 0.0\\nsamples = 1\\nvalue = [0.0, 0.998, 0.0]'),\n",
              " Text(66.77621225983532, 93.72413793103449, 'gini = -0.0\\nsamples = 5\\nvalue = [0.0, 0.0, 5.056]'),\n",
              " Text(70.451967063129, 96.22344827586208, 'X[2893] <= 0.5\\ngini = 0.47\\nsamples = 51\\nvalue = [31.714, 0.0, 19.213]'),\n",
              " Text(69.22671546203111, 93.72413793103449, 'gini = 0.0\\nsamples = 19\\nvalue = [0.0, 0.0, 19.213]'),\n",
              " Text(71.6772186642269, 93.72413793103449, 'gini = 0.0\\nsamples = 32\\nvalue = [31.714, 0.0, 0.0]'),\n",
              " Text(74.12772186642269, 98.72275862068966, 'X[5784] <= 0.5\\ngini = 0.275\\nsamples = 6\\nvalue = [0.0, 0.998, 5.056]'),\n",
              " Text(72.9024702653248, 96.22344827586208, 'gini = 0.0\\nsamples = 1\\nvalue = [0.0, 0.998, 0.0]'),\n",
              " Text(75.35297346752058, 96.22344827586208, 'gini = 0.0\\nsamples = 5\\nvalue = [0.0, 0.0, 5.056]'),\n",
              " Text(73.51509606587375, 101.22206896551725, 'gini = -0.0\\nsamples = 5\\nvalue = [0.0, 4.99, 0.0]'),\n",
              " Text(74.74034766697164, 103.72137931034483, 'gini = -0.0\\nsamples = 5\\nvalue = [0.0, 4.99, 0.0]'),\n",
              " Text(75.96559926806954, 106.22068965517242, 'gini = -0.0\\nsamples = 6\\nvalue = [0.0, 0.0, 6.067]'),\n",
              " Text(77.19085086916743, 108.72000000000001, 'gini = -0.0\\nsamples = 7\\nvalue = [0.0, 0.0, 7.078]'),\n",
              " Text(78.41610247026533, 111.21931034482759, 'gini = -0.0\\nsamples = 7\\nvalue = [0.0, 0.0, 7.078]'),\n",
              " Text(79.64135407136322, 113.71862068965518, 'gini = -0.0\\nsamples = 8\\nvalue = [0.0, 0.0, 8.089]'),\n",
              " Text(83.31710887465691, 116.21793103448276, 'X[4678] <= 0.5\\ngini = 0.394\\nsamples = 11\\nvalue = [0.0, 2.994, 8.089]'),\n",
              " Text(82.09185727355901, 113.71862068965518, 'gini = 0.0\\nsamples = 8\\nvalue = [0.0, 0.0, 8.089]'),\n",
              " Text(84.5423604757548, 113.71862068965518, 'gini = -0.0\\nsamples = 3\\nvalue = [0.0, 2.994, 0.0]'),\n",
              " Text(86.9928636779506, 118.71724137931035, 'X[3281] <= 0.5\\ngini = 0.164\\nsamples = 11\\nvalue = [0.0, 0.998, 10.112]'),\n",
              " Text(85.7676120768527, 116.21793103448276, 'gini = 0.0\\nsamples = 10\\nvalue = [0.0, 0.0, 10.112]'),\n",
              " Text(88.21811527904849, 116.21793103448276, 'gini = -0.0\\nsamples = 1\\nvalue = [0.0, 0.998, 0.0]'),\n",
              " Text(93.11912168344008, 121.21655172413794, 'X[1479] <= 0.5\\ngini = 0.506\\nsamples = 36\\nvalue = [13.875, 0.998, 21.235]'),\n",
              " Text(91.89387008234219, 118.71724137931035, 'X[10782] <= 0.5\\ngini = 0.086\\nsamples = 22\\nvalue = [0.0, 0.998, 21.235]'),\n",
              " Text(90.66861848124428, 116.21793103448276, 'gini = 0.0\\nsamples = 21\\nvalue = [0.0, 0.0, 21.235]'),\n",
              " Text(93.11912168344008, 116.21793103448276, 'gini = -0.0\\nsamples = 1\\nvalue = [0.0, 0.998, 0.0]'),\n",
              " Text(94.34437328453798, 118.71724137931035, 'gini = 0.0\\nsamples = 14\\nvalue = [13.875, 0.0, 0.0]'),\n",
              " Text(90.97493138151876, 123.71586206896552, 'gini = -0.0\\nsamples = 10\\nvalue = [0.0, 0.0, 10.112]'),\n",
              " Text(94.65068618481244, 126.21517241379311, 'X[1451] <= 0.5\\ngini = 0.151\\nsamples = 12\\nvalue = [0.0, 0.998, 11.123]'),\n",
              " Text(93.42543458371455, 123.71586206896552, 'gini = 0.0\\nsamples = 11\\nvalue = [0.0, 0.0, 11.123]'),\n",
              " Text(95.87593778591034, 123.71586206896552, 'gini = -0.0\\nsamples = 1\\nvalue = [0.0, 0.998, 0.0]'),\n",
              " Text(94.65068618481244, 128.7144827586207, 'gini = -0.0\\nsamples = 11\\nvalue = [0.0, 0.0, 11.123]'),\n",
              " Text(95.87593778591034, 131.21379310344827, 'gini = -0.0\\nsamples = 11\\nvalue = [0.0, 0.0, 11.123]'),\n",
              " Text(97.10118938700823, 133.7131034482759, 'gini = -0.0\\nsamples = 11\\nvalue = [0.0, 0.0, 11.123]'),\n",
              " Text(98.32644098810614, 136.21241379310345, 'gini = -0.0\\nsamples = 13\\nvalue = [0.0, 12.974, 0.0]'),\n",
              " Text(102.00219579139983, 138.71172413793104, 'X[5976] <= 0.5\\ngini = 0.253\\nsamples = 20\\nvalue = [0.0, 2.994, 17.19]'),\n",
              " Text(100.77694419030193, 136.21241379310345, 'X[7250] <= 0.5\\ngini = 0.104\\nsamples = 18\\nvalue = [0.0, 0.998, 17.19]'),\n",
              " Text(99.55169258920404, 133.7131034482759, 'gini = 0.0\\nsamples = 17\\nvalue = [0.0, 0.0, 17.19]'),\n",
              " Text(102.00219579139983, 133.7131034482759, 'gini = -0.0\\nsamples = 1\\nvalue = [0.0, 0.998, 0.0]'),\n",
              " Text(103.22744739249772, 136.21241379310345, 'gini = -0.0\\nsamples = 2\\nvalue = [0.0, 1.996, 0.0]'),\n",
              " Text(102.00219579139983, 141.21103448275863, 'gini = -0.0\\nsamples = 17\\nvalue = [0.0, 0.0, 17.19]'),\n",
              " Text(109.3537053979872, 143.7103448275862, 'X[5779] <= 0.5\\ngini = 0.327\\nsamples = 24\\nvalue = [0.0, 4.99, 19.213]'),\n",
              " Text(108.1284537968893, 141.21103448275863, 'X[9332] <= 0.5\\ngini = 0.171\\nsamples = 21\\nvalue = [0.0, 1.996, 19.213]'),\n",
              " Text(106.90320219579141, 138.71172413793104, 'X[2302] <= 0.5\\ngini = 0.094\\nsamples = 20\\nvalue = [0.0, 0.998, 19.213]'),\n",
              " Text(105.67795059469351, 136.21241379310345, 'gini = 0.0\\nsamples = 19\\nvalue = [0.0, 0.0, 19.213]'),\n",
              " Text(108.1284537968893, 136.21241379310345, 'gini = -0.0\\nsamples = 1\\nvalue = [0.0, 0.998, 0.0]'),\n",
              " Text(109.3537053979872, 138.71172413793104, 'gini = -0.0\\nsamples = 1\\nvalue = [0.0, 0.998, 0.0]'),\n",
              " Text(110.5789569990851, 141.21103448275863, 'gini = -0.0\\nsamples = 3\\nvalue = [0.0, 2.994, 0.0]'),\n",
              " Text(107.51582799634035, 146.20965517241382, 'gini = -0.0\\nsamples = 20\\nvalue = [0.0, 0.0, 20.224]'),\n",
              " Text(111.19158279963405, 148.70896551724138, 'X[5723] <= 0.5\\ngini = 0.151\\nsamples = 24\\nvalue = [0.0, 1.996, 22.246]'),\n",
              " Text(109.96633119853614, 146.20965517241382, 'gini = 0.0\\nsamples = 22\\nvalue = [0.0, 0.0, 22.246]'),\n",
              " Text(112.41683440073194, 146.20965517241382, 'gini = -0.0\\nsamples = 2\\nvalue = [0.0, 1.996, 0.0]'),\n",
              " Text(111.19158279963405, 151.20827586206897, 'gini = -0.0\\nsamples = 22\\nvalue = [0.0, 0.0, 22.246]'),\n",
              " Text(114.86733760292773, 153.70758620689656, 'X[7345] <= 0.5\\ngini = 0.136\\nsamples = 27\\nvalue = [0.0, 1.996, 25.28]'),\n",
              " Text(113.64208600182984, 151.20827586206897, 'gini = 0.0\\nsamples = 25\\nvalue = [0.0, 0.0, 25.28]'),\n",
              " Text(116.09258920402563, 151.20827586206897, 'gini = -0.0\\nsamples = 2\\nvalue = [0.0, 1.996, 0.0]'),\n",
              " Text(120.99359560841721, 156.20689655172413, 'X[2016] <= 0.5\\ngini = 0.206\\nsamples = 34\\nvalue = [0.0, 3.992, 30.336]'),\n",
              " Text(119.76834400731931, 153.70758620689656, 'X[9800] <= 0.5\\ngini = 0.116\\nsamples = 32\\nvalue = [0.0, 1.996, 30.336]'),\n",
              " Text(118.54309240622142, 151.20827586206897, 'gini = 0.0\\nsamples = 29\\nvalue = [0.0, 0.0, 29.324]'),\n",
              " Text(120.99359560841721, 151.20827586206897, 'X[1132] <= 0.5\\ngini = 0.446\\nsamples = 3\\nvalue = [0.0, 1.996, 1.011]'),\n",
              " Text(119.76834400731931, 148.70896551724138, 'gini = -0.0\\nsamples = 2\\nvalue = [0.0, 1.996, 0.0]'),\n",
              " Text(122.2188472095151, 148.70896551724138, 'gini = 0.0\\nsamples = 1\\nvalue = [0.0, 0.0, 1.011]'),\n",
              " Text(122.2188472095151, 153.70758620689656, 'gini = -0.0\\nsamples = 2\\nvalue = [0.0, 1.996, 0.0]'),\n",
              " Text(129.57035681610247, 158.70620689655172, 'X[6419] <= 0.5\\ngini = 0.412\\nsamples = 41\\nvalue = [0.0, 11.976, 29.324]'),\n",
              " Text(128.3451052150046, 156.20689655172413, 'X[1943] <= 0.5\\ngini = 0.249\\nsamples = 34\\nvalue = [0.0, 4.99, 29.324]'),\n",
              " Text(127.11985361390668, 153.70758620689656, 'X[3412] <= 0.5\\ngini = 0.168\\nsamples = 32\\nvalue = [0.0, 2.994, 29.324]'),\n",
              " Text(125.89460201280879, 151.20827586206897, 'X[640] <= 0.5\\ngini = 0.064\\nsamples = 30\\nvalue = [0.0, 0.998, 29.324]'),\n",
              " Text(124.6693504117109, 148.70896551724138, 'gini = 0.0\\nsamples = 29\\nvalue = [0.0, 0.0, 29.324]'),\n",
              " Text(127.11985361390668, 148.70896551724138, 'gini = -0.0\\nsamples = 1\\nvalue = [0.0, 0.998, 0.0]'),\n",
              " Text(128.3451052150046, 151.20827586206897, 'gini = -0.0\\nsamples = 2\\nvalue = [0.0, 1.996, 0.0]'),\n",
              " Text(129.57035681610247, 153.70758620689656, 'gini = -0.0\\nsamples = 2\\nvalue = [0.0, 1.996, 0.0]'),\n",
              " Text(130.79560841720038, 156.20689655172413, 'gini = -0.0\\nsamples = 7\\nvalue = [0.0, 6.986, 0.0]'),\n",
              " Text(138.14711802378775, 161.2055172413793, 'X[6419] <= 0.5\\ngini = 0.554\\nsamples = 122\\nvalue = [33.696, 15.967, 72.805]'),\n",
              " Text(135.69661482159196, 158.70620689655172, 'X[9018] <= 0.5\\ngini = 0.5\\nsamples = 109\\nvalue = [21.803, 14.969, 72.805]'),\n",
              " Text(134.47136322049406, 156.20689655172413, 'X[3834] <= 0.5\\ngini = 0.43\\nsamples = 99\\nvalue = [11.893, 14.969, 72.805]'),\n",
              " Text(132.02086001829827, 153.70758620689656, 'X[10624] <= 0.5\\ngini = 0.34\\nsamples = 88\\nvalue = [11.893, 5.988, 70.783]'),\n",
              " Text(130.79560841720038, 151.20827586206897, 'X[8815] <= 0.5\\ngini = 0.312\\nsamples = 86\\nvalue = [11.893, 3.992, 70.783]'),\n",
              " Text(129.57035681610247, 148.70896551724138, 'X[4678] <= 0.5\\ngini = 0.464\\nsamples = 51\\nvalue = [11.893, 3.992, 35.391]'),\n",
              " Text(125.28197621225985, 146.20965517241382, 'X[3459] <= 0.5\\ngini = 0.531\\nsamples = 27\\nvalue = [11.893, 0.998, 14.157]'),\n",
              " Text(124.05672461116194, 143.7103448275862, 'X[9031] <= 0.5\\ngini = 0.517\\nsamples = 20\\nvalue = [11.893, 0.998, 7.078]'),\n",
              " Text(121.60622140896615, 141.21103448275863, 'X[846] <= 0.5\\ngini = 0.379\\nsamples = 16\\nvalue = [11.893, 0.0, 4.045]'),\n",
              " Text(120.38096980786825, 138.71172413793104, 'X[7765] <= 1.0\\ngini = 0.144\\nsamples = 13\\nvalue = [11.893, 0.0, 1.011]'),\n",
              " Text(119.15571820677036, 136.21241379310345, 'gini = 0.0\\nsamples = 12\\nvalue = [11.893, 0.0, 0.0]'),\n",
              " Text(121.60622140896615, 136.21241379310345, 'gini = -0.0\\nsamples = 1\\nvalue = [0.0, 0.0, 1.011]'),\n",
              " Text(122.83147301006404, 138.71172413793104, 'gini = -0.0\\nsamples = 3\\nvalue = [0.0, 0.0, 3.034]'),\n",
              " Text(126.50722781335774, 141.21103448275863, 'X[5647] <= 0.5\\ngini = 0.373\\nsamples = 4\\nvalue = [0.0, 0.998, 3.034]'),\n",
              " Text(125.28197621225985, 138.71172413793104, 'gini = 0.0\\nsamples = 1\\nvalue = [0.0, 0.998, 0.0]'),\n",
              " Text(127.73247941445564, 138.71172413793104, 'gini = -0.0\\nsamples = 3\\nvalue = [0.0, 0.0, 3.034]'),\n",
              " Text(126.50722781335774, 143.7103448275862, 'gini = 0.0\\nsamples = 7\\nvalue = [0.0, 0.0, 7.078]'),\n",
              " Text(133.8587374199451, 146.20965517241382, 'X[470] <= 0.5\\ngini = 0.217\\nsamples = 24\\nvalue = [0.0, 2.994, 21.235]'),\n",
              " Text(132.63348581884722, 143.7103448275862, 'X[5802] <= 0.5\\ngini = 0.157\\nsamples = 23\\nvalue = [0.0, 1.996, 21.235]'),\n",
              " Text(131.4082342177493, 141.21103448275863, 'X[10395] <= 0.5\\ngini = 0.086\\nsamples = 22\\nvalue = [0.0, 0.998, 21.235]'),\n",
              " Text(130.18298261665143, 138.71172413793104, 'gini = 0.0\\nsamples = 21\\nvalue = [0.0, 0.0, 21.235]'),\n",
              " Text(132.63348581884722, 138.71172413793104, 'gini = -0.0\\nsamples = 1\\nvalue = [0.0, 0.998, 0.0]'),\n",
              " Text(133.8587374199451, 141.21103448275863, 'gini = -0.0\\nsamples = 1\\nvalue = [0.0, 0.998, 0.0]'),\n",
              " Text(135.083989021043, 143.7103448275862, 'gini = -0.0\\nsamples = 1\\nvalue = [0.0, 0.998, 0.0]'),\n",
              " Text(132.02086001829827, 148.70896551724138, 'gini = -0.0\\nsamples = 35\\nvalue = [0.0, 0.0, 35.391]'),\n",
              " Text(133.24611161939617, 151.20827586206897, 'gini = -0.0\\nsamples = 2\\nvalue = [0.0, 1.996, 0.0]'),\n",
              " Text(136.92186642268985, 153.70758620689656, 'X[1378] <= 0.5\\ngini = 0.3\\nsamples = 11\\nvalue = [0.0, 8.982, 2.022]'),\n",
              " Text(135.69661482159196, 151.20827586206897, 'gini = 0.0\\nsamples = 9\\nvalue = [0.0, 8.982, 0.0]'),\n",
              " Text(138.14711802378775, 151.20827586206897, 'gini = -0.0\\nsamples = 2\\nvalue = [0.0, 0.0, 2.022]'),\n",
              " Text(136.92186642268985, 156.20689655172413, 'gini = 0.0\\nsamples = 10\\nvalue = [9.911, 0.0, 0.0]'),\n",
              " Text(140.59762122598354, 158.70620689655172, 'X[5918] <= 0.5\\ngini = 0.143\\nsamples = 13\\nvalue = [11.893, 0.998, 0.0]'),\n",
              " Text(139.37236962488564, 156.20689655172413, 'gini = 0.0\\nsamples = 12\\nvalue = [11.893, 0.0, 0.0]'),\n",
              " Text(141.82287282708143, 156.20689655172413, 'gini = -0.0\\nsamples = 1\\nvalue = [0.0, 0.998, 0.0]'),\n",
              " Text(141.82287282708143, 163.7048275862069, 'X[266] <= 0.5\\ngini = 0.047\\nsamples = 41\\nvalue = [0.0, 0.998, 40.447]'),\n",
              " Text(140.59762122598354, 161.2055172413793, 'gini = 0.0\\nsamples = 40\\nvalue = [0.0, 0.0, 40.447]'),\n",
              " Text(143.04812442817934, 161.2055172413793, 'gini = -0.0\\nsamples = 1\\nvalue = [0.0, 0.998, 0.0]'),\n",
              " Text(150.3996340347667, 166.2041379310345, 'X[10151] <= 0.5\\ngini = 0.377\\nsamples = 62\\nvalue = [1.982, 12.974, 47.526]'),\n",
              " Text(147.94913083257092, 163.7048275862069, 'X[5795] <= 0.5\\ngini = 0.246\\nsamples = 55\\nvalue = [0.0, 7.984, 47.526]'),\n",
              " Text(146.723879231473, 161.2055172413793, 'X[2573] <= 0.5\\ngini = 0.143\\nsamples = 51\\nvalue = [0.0, 3.992, 47.526]'),\n",
              " Text(145.49862763037513, 158.70620689655172, 'X[4473] <= 0.5\\ngini = 0.077\\nsamples = 49\\nvalue = [0.0, 1.996, 47.526]'),\n",
              " Text(144.27337602927722, 156.20689655172413, 'X[8696] <= 1.0\\ngini = 0.04\\nsamples = 48\\nvalue = [0.0, 0.998, 47.526]'),\n",
              " Text(143.04812442817934, 153.70758620689656, 'gini = 0.0\\nsamples = 47\\nvalue = [0.0, 0.0, 47.526]'),\n",
              " Text(145.49862763037513, 153.70758620689656, 'gini = -0.0\\nsamples = 1\\nvalue = [0.0, 0.998, 0.0]'),\n",
              " Text(146.723879231473, 156.20689655172413, 'gini = -0.0\\nsamples = 1\\nvalue = [0.0, 0.998, 0.0]'),\n",
              " Text(147.94913083257092, 158.70620689655172, 'gini = -0.0\\nsamples = 2\\nvalue = [0.0, 1.996, 0.0]'),\n",
              " Text(149.1743824336688, 161.2055172413793, 'gini = -0.0\\nsamples = 4\\nvalue = [0.0, 3.992, 0.0]'),\n",
              " Text(152.8501372369625, 163.7048275862069, 'X[6241] <= 0.5\\ngini = 0.407\\nsamples = 7\\nvalue = [1.982, 4.99, 0.0]'),\n",
              " Text(151.62488563586462, 161.2055172413793, 'gini = 0.0\\nsamples = 4\\nvalue = [0.0, 3.992, 0.0]'),\n",
              " Text(154.0753888380604, 161.2055172413793, 'X[4102] <= 0.5\\ngini = 0.445\\nsamples = 3\\nvalue = [1.982, 0.998, 0.0]'),\n",
              " Text(152.8501372369625, 158.70620689655172, 'gini = 0.0\\nsamples = 1\\nvalue = [0.0, 0.998, 0.0]'),\n",
              " Text(155.3006404391583, 158.70620689655172, 'gini = 0.0\\nsamples = 2\\nvalue = [1.982, 0.0, 0.0]'),\n",
              " Text(163.87740164684357, 168.70344827586206, 'X[10163] <= 0.5\\ngini = 0.408\\nsamples = 120\\nvalue = [20.812, 9.98, 89.995]'),\n",
              " Text(161.42689844464778, 166.2041379310345, 'X[6419] <= 0.5\\ngini = 0.165\\nsamples = 98\\nvalue = [0.0, 8.982, 89.995]'),\n",
              " Text(160.20164684354987, 163.7048275862069, 'X[3459] <= 0.5\\ngini = 0.1\\nsamples = 94\\nvalue = [0.0, 4.99, 89.995]'),\n",
              " Text(158.97639524245199, 161.2055172413793, 'X[336] <= 0.5\\ngini = 0.062\\nsamples = 92\\nvalue = [0.0, 2.994, 89.995]'),\n",
              " Text(157.75114364135408, 158.70620689655172, 'X[4295] <= 0.5\\ngini = 0.022\\nsamples = 90\\nvalue = [0.0, 0.998, 89.995]'),\n",
              " Text(156.5258920402562, 156.20689655172413, 'gini = -0.0\\nsamples = 89\\nvalue = [0.0, 0.0, 89.995]'),\n",
              " Text(158.97639524245199, 156.20689655172413, 'gini = -0.0\\nsamples = 1\\nvalue = [0.0, 0.998, 0.0]'),\n",
              " Text(160.20164684354987, 158.70620689655172, 'gini = -0.0\\nsamples = 2\\nvalue = [0.0, 1.996, 0.0]'),\n",
              " Text(161.42689844464778, 161.2055172413793, 'gini = -0.0\\nsamples = 2\\nvalue = [0.0, 1.996, 0.0]'),\n",
              " Text(162.65215004574566, 163.7048275862069, 'gini = -0.0\\nsamples = 4\\nvalue = [0.0, 3.992, 0.0]'),\n",
              " Text(166.32790484903936, 166.2041379310345, 'X[7413] <= 0.5\\ngini = 0.087\\nsamples = 22\\nvalue = [20.812, 0.998, 0.0]'),\n",
              " Text(165.10265324794145, 163.7048275862069, 'gini = 0.0\\nsamples = 21\\nvalue = [20.812, 0.0, 0.0]'),\n",
              " Text(167.55315645013724, 163.7048275862069, 'gini = -0.0\\nsamples = 1\\nvalue = [0.0, 0.998, 0.0]'),\n",
              " Text(173.67941445562673, 171.20275862068965, 'X[6419] <= 0.5\\ngini = 0.156\\nsamples = 81\\nvalue = [0.0, 6.986, 74.828]'),\n",
              " Text(172.45416285452882, 168.70344827586206, 'X[2800] <= 0.5\\ngini = 0.074\\nsamples = 77\\nvalue = [0.0, 2.994, 74.828]'),\n",
              " Text(171.22891125343094, 166.2041379310345, 'X[5992] <= 0.5\\ngini = 0.026\\nsamples = 75\\nvalue = [0.0, 0.998, 74.828]'),\n",
              " Text(170.00365965233303, 163.7048275862069, 'gini = -0.0\\nsamples = 74\\nvalue = [0.0, 0.0, 74.828]'),\n",
              " Text(172.45416285452882, 163.7048275862069, 'gini = -0.0\\nsamples = 1\\nvalue = [0.0, 0.998, 0.0]'),\n",
              " Text(173.67941445562673, 166.2041379310345, 'gini = -0.0\\nsamples = 2\\nvalue = [0.0, 1.996, 0.0]'),\n",
              " Text(174.9046660567246, 168.70344827586206, 'gini = -0.0\\nsamples = 4\\nvalue = [0.0, 3.992, 0.0]'),\n",
              " Text(179.80567246111622, 173.70206896551724, 'X[8398] <= 0.5\\ngini = 0.097\\nsamples = 77\\nvalue = [0.0, 3.992, 73.816]'),\n",
              " Text(178.5804208600183, 171.20275862068965, 'X[9513] <= 0.5\\ngini = 0.051\\nsamples = 75\\nvalue = [0.0, 1.996, 73.816]'),\n",
              " Text(177.35516925892043, 168.70344827586206, 'gini = -0.0\\nsamples = 73\\nvalue = [0.0, 0.0, 73.816]'),\n",
              " Text(179.80567246111622, 168.70344827586206, 'gini = -0.0\\nsamples = 2\\nvalue = [0.0, 1.996, 0.0]'),\n",
              " Text(181.0309240622141, 171.20275862068965, 'gini = -0.0\\nsamples = 2\\nvalue = [0.0, 1.996, 0.0]'),\n",
              " Text(186.23824336688017, 176.20137931034483, 'X[5193] <= 0.5\\ngini = 0.478\\nsamples = 862\\nvalue = [255.693, 40.917, 569.297]'),\n",
              " Text(185.01299176578226, 173.70206896551724, 'X[8504] <= 0.5\\ngini = 0.422\\nsamples = 781\\nvalue = [175.417, 40.917, 569.297]'),\n",
              " Text(183.78774016468438, 171.20275862068965, 'X[1909] <= 0.5\\ngini = 0.342\\nsamples = 710\\nvalue = [105.052, 40.917, 569.297]'),\n",
              " Text(182.56248856358647, 168.70344827586206, 'X[9513] <= 0.5\\ngini = 0.254\\nsamples = 658\\nvalue = [53.517, 40.917, 569.297]'),\n",
              " Text(176.12991765782252, 166.2041379310345, 'X[1943] <= 0.5\\ngini = 0.157\\nsamples = 578\\nvalue = [20.812, 27.943, 534.917]'),\n",
              " Text(174.9046660567246, 163.7048275862069, 'X[8336] <= 0.5\\ngini = 0.143\\nsamples = 573\\nvalue = [20.812, 22.953, 534.917]'),\n",
              " Text(173.67941445562673, 161.2055172413793, 'X[1867] <= 0.5\\ngini = 0.128\\nsamples = 568\\nvalue = [20.812, 17.963, 534.917]'),\n",
              " Text(171.22891125343094, 158.70620689655172, 'X[2272] <= 0.5\\ngini = 0.114\\nsamples = 562\\nvalue = [15.857, 17.963, 533.906]'),\n",
              " Text(170.00365965233303, 156.20689655172413, 'X[10863] <= 0.5\\ngini = 0.105\\nsamples = 559\\nvalue = [15.857, 14.969, 533.906]'),\n",
              " Text(168.77840805123515, 153.70758620689656, 'X[10163] <= 0.5\\ngini = 0.095\\nsamples = 556\\nvalue = [15.857, 11.976, 533.906]'),\n",
              " Text(164.49002744739252, 151.20827586206897, 'X[2257] <= 0.5\\ngini = 0.069\\nsamples = 530\\nvalue = [7.928, 10.978, 516.715]'),\n",
              " Text(162.0395242451967, 148.70896551724138, 'X[10381] <= 0.5\\ngini = 0.059\\nsamples = 526\\nvalue = [7.928, 7.984, 515.704]'),\n",
              " Text(160.81427264409882, 146.20965517241382, 'X[10110] <= 0.5\\ngini = 0.052\\nsamples = 524\\nvalue = [7.928, 5.988, 515.704]'),\n",
              " Text(159.5890210430009, 143.7103448275862, 'X[3192] <= 0.5\\ngini = 0.048\\nsamples = 523\\nvalue = [7.928, 4.99, 515.704]'),\n",
              " Text(158.36376944190303, 141.21103448275863, 'X[7016] <= 0.5\\ngini = 0.044\\nsamples = 522\\nvalue = [7.928, 3.992, 515.704]'),\n",
              " Text(157.13851784080512, 138.71172413793104, 'X[8110] <= 0.5\\ngini = 0.041\\nsamples = 521\\nvalue = [7.928, 2.994, 515.704]'),\n",
              " Text(155.91326623970724, 136.21241379310345, 'X[10961] <= 0.5\\ngini = 0.037\\nsamples = 520\\nvalue = [7.928, 1.996, 515.704]'),\n",
              " Text(154.68801463860933, 133.7131034482759, 'X[5906] <= 0.5\\ngini = 0.034\\nsamples = 519\\nvalue = [7.928, 0.998, 515.704]'),\n",
              " Text(153.46276303751145, 131.21379310344827, 'X[8398] <= 1.5\\ngini = 0.03\\nsamples = 518\\nvalue = [7.928, 0.0, 515.704]'),\n",
              " Text(151.01225983531566, 128.7144827586207, 'X[4678] <= 0.5\\ngini = 0.023\\nsamples = 508\\nvalue = [5.946, 0.0, 507.615]'),\n",
              " Text(149.78700823421775, 126.21517241379311, 'X[8815] <= 0.5\\ngini = 0.052\\nsamples = 221\\nvalue = [5.946, 0.0, 217.405]'),\n",
              " Text(148.56175663311987, 123.71586206896552, 'X[8389] <= 1.5\\ngini = 0.076\\nsamples = 149\\nvalue = [5.946, 0.0, 144.599]'),\n",
              " Text(147.33650503202196, 121.21655172413794, 'X[9519] <= 0.5\\ngini = 0.116\\nsamples = 95\\nvalue = [5.946, 0.0, 89.995]'),\n",
              " Text(146.11125343092408, 118.71724137931035, 'X[9526] <= 0.5\\ngini = 0.152\\nsamples = 71\\nvalue = [5.946, 0.0, 65.727]'),\n",
              " Text(144.88600182982617, 116.21793103448276, 'X[11016] <= 0.5\\ngini = 0.177\\nsamples = 60\\nvalue = [5.946, 0.0, 54.604]'),\n",
              " Text(143.6607502287283, 113.71862068965518, 'X[5145] <= 0.5\\ngini = 0.201\\nsamples = 52\\nvalue = [5.946, 0.0, 46.514]'),\n",
              " Text(142.43549862763038, 111.21931034482759, 'X[10151] <= 0.5\\ngini = 0.232\\nsamples = 44\\nvalue = [5.946, 0.0, 38.425]'),\n",
              " Text(141.2102470265325, 108.72000000000001, 'X[3310] <= 0.5\\ngini = 0.262\\nsamples = 38\\nvalue = [5.946, 0.0, 32.358]'),\n",
              " Text(139.9849954254346, 106.22068965517242, 'X[1884] <= 0.5\\ngini = 0.301\\nsamples = 32\\nvalue = [5.946, 0.0, 26.291]'),\n",
              " Text(138.7597438243367, 103.72137931034483, 'X[8398] <= 0.5\\ngini = 0.333\\nsamples = 28\\nvalue = [5.946, 0.0, 22.246]'),\n",
              " Text(137.5344922232388, 101.22206896551725, 'X[4701] <= 0.5\\ngini = 0.371\\nsamples = 24\\nvalue = [5.946, 0.0, 18.201]'),\n",
              " Text(136.3092406221409, 98.72275862068966, 'X[3544] <= 0.5\\ngini = 0.393\\nsamples = 22\\nvalue = [5.946, 0.0, 16.179]'),\n",
              " Text(135.083989021043, 96.22344827586208, 'X[6823] <= 1.0\\ngini = 0.405\\nsamples = 21\\nvalue = [5.946, 0.0, 15.168]'),\n",
              " Text(133.8587374199451, 93.72413793103449, 'gini = 0.417\\nsamples = 20\\nvalue = [5.946, 0.0, 14.157]'),\n",
              " Text(136.3092406221409, 93.72413793103449, 'gini = 0.0\\nsamples = 1\\nvalue = [0.0, 0.0, 1.011]'),\n",
              " Text(137.5344922232388, 96.22344827586208, 'gini = 0.0\\nsamples = 1\\nvalue = [0.0, 0.0, 1.011]'),\n",
              " Text(138.7597438243367, 98.72275862068966, 'gini = 0.0\\nsamples = 2\\nvalue = [0.0, 0.0, 2.022]'),\n",
              " Text(139.9849954254346, 101.22206896551725, 'gini = 0.0\\nsamples = 4\\nvalue = [0.0, 0.0, 4.045]'),\n",
              " Text(141.2102470265325, 103.72137931034483, 'gini = 0.0\\nsamples = 4\\nvalue = [0.0, 0.0, 4.045]'),\n",
              " Text(142.43549862763038, 106.22068965517242, 'gini = 0.0\\nsamples = 6\\nvalue = [0.0, 0.0, 6.067]'),\n",
              " Text(143.6607502287283, 108.72000000000001, 'gini = 0.0\\nsamples = 6\\nvalue = [0.0, 0.0, 6.067]'),\n",
              " Text(144.88600182982617, 111.21931034482759, 'gini = 0.0\\nsamples = 8\\nvalue = [0.0, 0.0, 8.089]'),\n",
              " Text(146.11125343092408, 113.71862068965518, 'gini = 0.0\\nsamples = 8\\nvalue = [0.0, 0.0, 8.089]'),\n",
              " Text(147.33650503202196, 116.21793103448276, 'gini = -0.0\\nsamples = 11\\nvalue = [0.0, 0.0, 11.123]'),\n",
              " Text(148.56175663311987, 118.71724137931035, 'gini = 0.0\\nsamples = 24\\nvalue = [0.0, 0.0, 24.268]'),\n",
              " Text(149.78700823421775, 121.21655172413794, 'gini = 0.0\\nsamples = 54\\nvalue = [0.0, 0.0, 54.604]'),\n",
              " Text(151.01225983531566, 123.71586206896552, 'gini = 0.0\\nsamples = 72\\nvalue = [0.0, 0.0, 72.805]'),\n",
              " Text(152.23751143641354, 126.21517241379311, 'gini = -0.0\\nsamples = 287\\nvalue = [0.0, 0.0, 290.21]'),\n",
              " Text(155.91326623970724, 128.7144827586207, 'X[2792] <= 0.5\\ngini = 0.316\\nsamples = 10\\nvalue = [1.982, 0.0, 8.089]'),\n",
              " Text(154.68801463860933, 126.21517241379311, 'gini = 0.0\\nsamples = 8\\nvalue = [0.0, 0.0, 8.089]'),\n",
              " Text(157.13851784080512, 126.21517241379311, 'gini = -0.0\\nsamples = 2\\nvalue = [1.982, 0.0, 0.0]'),\n",
              " Text(155.91326623970724, 131.21379310344827, 'gini = -0.0\\nsamples = 1\\nvalue = [0.0, 0.998, 0.0]'),\n",
              " Text(157.13851784080512, 133.7131034482759, 'gini = -0.0\\nsamples = 1\\nvalue = [0.0, 0.998, 0.0]'),\n",
              " Text(158.36376944190303, 136.21241379310345, 'gini = -0.0\\nsamples = 1\\nvalue = [0.0, 0.998, 0.0]'),\n",
              " Text(159.5890210430009, 138.71172413793104, 'gini = -0.0\\nsamples = 1\\nvalue = [0.0, 0.998, 0.0]'),\n",
              " Text(160.81427264409882, 141.21103448275863, 'gini = -0.0\\nsamples = 1\\nvalue = [0.0, 0.998, 0.0]'),\n",
              " Text(162.0395242451967, 143.7103448275862, 'gini = -0.0\\nsamples = 1\\nvalue = [0.0, 0.998, 0.0]'),\n",
              " Text(163.2647758462946, 146.20965517241382, 'gini = -0.0\\nsamples = 2\\nvalue = [0.0, 1.996, 0.0]'),\n",
              " Text(166.9405306495883, 148.70896551724138, 'X[10329] <= 0.5\\ngini = 0.377\\nsamples = 4\\nvalue = [0.0, 2.994, 1.011]'),\n",
              " Text(165.7152790484904, 146.20965517241382, 'gini = 0.0\\nsamples = 3\\nvalue = [0.0, 2.994, 0.0]'),\n",
              " Text(168.1657822506862, 146.20965517241382, 'gini = 0.0\\nsamples = 1\\nvalue = [0.0, 0.0, 1.011]'),\n",
              " Text(173.06678865507777, 151.20827586206897, 'X[9519] <= 0.5\\ngini = 0.473\\nsamples = 26\\nvalue = [7.928, 0.998, 17.19]'),\n",
              " Text(171.8415370539799, 148.70896551724138, 'X[9898] <= 0.5\\ngini = 0.104\\nsamples = 18\\nvalue = [0.0, 0.998, 17.19]'),\n",
              " Text(170.61628545288198, 146.20965517241382, 'gini = 0.0\\nsamples = 17\\nvalue = [0.0, 0.0, 17.19]'),\n",
              " Text(173.06678865507777, 146.20965517241382, 'gini = -0.0\\nsamples = 1\\nvalue = [0.0, 0.998, 0.0]'),\n",
              " Text(174.29204025617568, 148.70896551724138, 'gini = -0.0\\nsamples = 8\\nvalue = [7.928, 0.0, 0.0]'),\n",
              " Text(171.22891125343094, 153.70758620689656, 'gini = -0.0\\nsamples = 3\\nvalue = [0.0, 2.994, 0.0]'),\n",
              " Text(172.45416285452882, 156.20689655172413, 'gini = -0.0\\nsamples = 3\\nvalue = [0.0, 2.994, 0.0]'),\n",
              " Text(176.12991765782252, 158.70620689655172, 'X[4701] <= 0.5\\ngini = 0.282\\nsamples = 6\\nvalue = [4.955, 0.0, 1.011]'),\n",
              " Text(174.9046660567246, 156.20689655172413, 'gini = 0.0\\nsamples = 5\\nvalue = [4.955, 0.0, 0.0]'),\n",
              " Text(177.35516925892043, 156.20689655172413, 'gini = -0.0\\nsamples = 1\\nvalue = [0.0, 0.0, 1.011]'),\n",
              " Text(176.12991765782252, 161.2055172413793, 'gini = -0.0\\nsamples = 5\\nvalue = [0.0, 4.99, 0.0]'),\n",
              " Text(177.35516925892043, 163.7048275862069, 'gini = -0.0\\nsamples = 5\\nvalue = [0.0, 4.99, 0.0]'),\n",
              " Text(188.99505946935042, 166.2041379310345, 'X[3310] <= 0.5\\ngini = 0.622\\nsamples = 80\\nvalue = [32.705, 12.974, 34.38]'),\n",
              " Text(187.7698078682525, 163.7048275862069, 'X[3661] <= 0.5\\ngini = 0.612\\nsamples = 63\\nvalue = [32.705, 12.974, 17.19]'),\n",
              " Text(186.54455626715463, 161.2055172413793, 'X[8815] <= 0.5\\ngini = 0.549\\nsamples = 54\\nvalue = [32.705, 12.974, 8.089]'),\n",
              " Text(182.256175663312, 158.70620689655172, 'X[6010] <= 0.5\\ngini = 0.642\\nsamples = 24\\nvalue = [5.946, 10.978, 7.078]'),\n",
              " Text(179.80567246111622, 156.20689655172413, 'X[9513] <= 1.5\\ngini = 0.418\\nsamples = 10\\nvalue = [0.0, 2.994, 7.078]'),\n",
              " Text(178.5804208600183, 153.70758620689656, 'X[7448] <= 0.5\\ngini = 0.217\\nsamples = 8\\nvalue = [0.0, 0.998, 7.078]'),\n",
              " Text(177.35516925892043, 151.20827586206897, 'gini = -0.0\\nsamples = 7\\nvalue = [0.0, 0.0, 7.078]'),\n",
              " Text(179.80567246111622, 151.20827586206897, 'gini = 0.0\\nsamples = 1\\nvalue = [0.0, 0.998, 0.0]'),\n",
              " Text(181.0309240622141, 153.70758620689656, 'gini = -0.0\\nsamples = 2\\nvalue = [0.0, 1.996, 0.0]'),\n",
              " Text(184.7066788655078, 156.20689655172413, 'X[6595] <= 0.5\\ngini = 0.489\\nsamples = 14\\nvalue = [5.946, 7.984, 0.0]'),\n",
              " Text(183.4814272644099, 153.70758620689656, 'X[4102] <= 0.5\\ngini = 0.481\\nsamples = 10\\nvalue = [5.946, 3.992, 0.0]'),\n",
              " Text(182.256175663312, 151.20827586206897, 'X[5318] <= 0.5\\ngini = 0.246\\nsamples = 7\\nvalue = [5.946, 0.998, 0.0]'),\n",
              " Text(181.0309240622141, 148.70896551724138, 'gini = 0.0\\nsamples = 6\\nvalue = [5.946, 0.0, 0.0]'),\n",
              " Text(183.4814272644099, 148.70896551724138, 'gini = 0.0\\nsamples = 1\\nvalue = [0.0, 0.998, 0.0]'),\n",
              " Text(184.7066788655078, 151.20827586206897, 'gini = -0.0\\nsamples = 3\\nvalue = [0.0, 2.994, 0.0]'),\n",
              " Text(185.93193046660568, 153.70758620689656, 'gini = -0.0\\nsamples = 4\\nvalue = [0.0, 3.992, 0.0]'),\n",
              " Text(190.83293687099726, 158.70620689655172, 'X[10590] <= 0.5\\ngini = 0.186\\nsamples = 30\\nvalue = [26.759, 1.996, 1.011]'),\n",
              " Text(189.60768526989938, 156.20689655172413, 'X[10633] <= 0.5\\ngini = 0.07\\nsamples = 28\\nvalue = [26.759, 0.0, 1.011]'),\n",
              " Text(188.38243366880147, 153.70758620689656, 'gini = -0.0\\nsamples = 27\\nvalue = [26.759, 0.0, 0.0]'),\n",
              " Text(190.83293687099726, 153.70758620689656, 'gini = 0.0\\nsamples = 1\\nvalue = [0.0, 0.0, 1.011]'),\n",
              " Text(192.05818847209517, 156.20689655172413, 'gini = -0.0\\nsamples = 2\\nvalue = [0.0, 1.996, 0.0]'),\n",
              " Text(188.99505946935042, 161.2055172413793, 'gini = 0.0\\nsamples = 9\\nvalue = [0.0, 0.0, 9.101]'),\n",
              " Text(190.22031107044833, 163.7048275862069, 'gini = -0.0\\nsamples = 17\\nvalue = [0.0, 0.0, 17.19]'),\n",
              " Text(185.01299176578226, 168.70344827586206, 'gini = -0.0\\nsamples = 52\\nvalue = [51.535, 0.0, 0.0]'),\n",
              " Text(186.23824336688017, 171.20275862068965, 'gini = -0.0\\nsamples = 71\\nvalue = [70.365, 0.0, 0.0]'),\n",
              " Text(187.46349496797805, 173.70206896551724, 'gini = 0.0\\nsamples = 81\\nvalue = [80.276, 0.0, 0.0]'),\n",
              " Text(191.13924977127175, 178.70068965517243, 'X[8389] <= 0.5\\ngini = 0.192\\nsamples = 172\\nvalue = [152.623, 14.969, 3.034]'),\n",
              " Text(189.91399817017384, 176.20137931034483, 'gini = 0.0\\nsamples = 11\\nvalue = [0.0, 10.978, 0.0]'),\n",
              " Text(192.36450137236963, 176.20137931034483, 'X[4184] <= 0.5\\ngini = 0.085\\nsamples = 161\\nvalue = [152.623, 3.992, 3.034]'),\n",
              " Text(189.91399817017384, 173.70206896551724, 'X[336] <= 0.5\\ngini = 0.026\\nsamples = 156\\nvalue = [152.623, 0.0, 2.022]'),\n",
              " Text(188.68874656907596, 171.20275862068965, 'gini = -0.0\\nsamples = 154\\nvalue = [152.623, 0.0, 0.0]'),\n",
              " Text(191.13924977127175, 171.20275862068965, 'gini = 0.0\\nsamples = 2\\nvalue = [0.0, 0.0, 2.022]'),\n",
              " Text(194.81500457456542, 173.70206896551724, 'X[8306] <= 0.5\\ngini = 0.323\\nsamples = 5\\nvalue = [0.0, 3.992, 1.011]'),\n",
              " Text(193.58975297346754, 171.20275862068965, 'gini = 0.0\\nsamples = 4\\nvalue = [0.0, 3.992, 0.0]'),\n",
              " Text(196.04025617566333, 171.20275862068965, 'gini = 0.0\\nsamples = 1\\nvalue = [0.0, 0.0, 1.011]'),\n",
              " Text(211.04958828911253, 181.2, 'X[4184] <= 0.5\\ngini = 0.485\\nsamples = 404\\nvalue = [35.678, 98.799, 272.009]'),\n",
              " Text(207.98645928636782, 178.70068965517243, 'X[3673] <= 0.5\\ngini = 0.401\\nsamples = 360\\nvalue = [21.803, 69.858, 270.997]'),\n",
              " Text(206.7612076852699, 176.20137931034483, 'X[361] <= 0.5\\ngini = 0.326\\nsamples = 338\\nvalue = [0.0, 69.858, 270.997]'),\n",
              " Text(204.31070448307412, 173.70206896551724, 'X[4502] <= 0.5\\ngini = 0.268\\nsamples = 317\\nvalue = [0.0, 50.896, 268.975]'),\n",
              " Text(203.08545288197624, 171.20275862068965, 'X[11016] <= 0.5\\ngini = 0.229\\nsamples = 307\\nvalue = [0.0, 40.917, 268.975]'),\n",
              " Text(201.86020128087833, 168.70344827586206, 'X[830] <= 0.5\\ngini = 0.199\\nsamples = 300\\nvalue = [0.0, 33.931, 268.975]'),\n",
              " Text(200.63494967978042, 166.2041379310345, 'X[5723] <= 0.5\\ngini = 0.171\\nsamples = 294\\nvalue = [0.0, 27.943, 268.975]'),\n",
              " Text(199.40969807868254, 163.7048275862069, 'X[6127] <= 0.5\\ngini = 0.145\\nsamples = 289\\nvalue = [0.0, 22.953, 268.975]'),\n",
              " Text(198.18444647758463, 161.2055172413793, 'X[3537] <= 0.5\\ngini = 0.123\\nsamples = 285\\nvalue = [0.0, 18.961, 268.975]'),\n",
              " Text(196.95919487648675, 158.70620689655172, 'X[5310] <= 0.5\\ngini = 0.106\\nsamples = 282\\nvalue = [0.0, 15.967, 268.975]'),\n",
              " Text(194.50869167429096, 156.20689655172413, 'X[3727] <= 0.5\\ngini = 0.07\\nsamples = 271\\nvalue = [0.0, 9.98, 263.919]'),\n",
              " Text(193.28344007319305, 153.70758620689656, 'X[3652] <= 0.5\\ngini = 0.05\\nsamples = 268\\nvalue = [0.0, 6.986, 263.919]'),\n",
              " Text(192.05818847209517, 151.20827586206897, 'X[955] <= 0.5\\ngini = 0.029\\nsamples = 265\\nvalue = [0.0, 3.992, 263.919]'),\n",
              " Text(190.83293687099726, 148.70896551724138, 'X[10825] <= 0.5\\ngini = 0.015\\nsamples = 263\\nvalue = [0.0, 1.996, 263.919]'),\n",
              " Text(189.60768526989938, 146.20965517241382, 'X[6105] <= 1.0\\ngini = 0.008\\nsamples = 262\\nvalue = [0.0, 0.998, 263.919]'),\n",
              " Text(188.38243366880147, 143.7103448275862, 'gini = 0.0\\nsamples = 261\\nvalue = [0.0, 0.0, 263.919]'),\n",
              " Text(190.83293687099726, 143.7103448275862, 'gini = -0.0\\nsamples = 1\\nvalue = [0.0, 0.998, 0.0]'),\n",
              " Text(192.05818847209517, 146.20965517241382, 'gini = -0.0\\nsamples = 1\\nvalue = [0.0, 0.998, 0.0]'),\n",
              " Text(193.28344007319305, 148.70896551724138, 'gini = -0.0\\nsamples = 2\\nvalue = [0.0, 1.996, 0.0]'),\n",
              " Text(194.50869167429096, 151.20827586206897, 'gini = -0.0\\nsamples = 3\\nvalue = [0.0, 2.994, 0.0]'),\n",
              " Text(195.73394327538884, 153.70758620689656, 'gini = -0.0\\nsamples = 3\\nvalue = [0.0, 2.994, 0.0]'),\n",
              " Text(199.40969807868254, 156.20689655172413, 'X[249] <= 0.5\\ngini = 0.496\\nsamples = 11\\nvalue = [0.0, 5.988, 5.056]'),\n",
              " Text(198.18444647758463, 153.70758620689656, 'X[349] <= 0.5\\ngini = 0.377\\nsamples = 8\\nvalue = [0.0, 5.988, 2.022]'),\n",
              " Text(196.95919487648675, 151.20827586206897, 'X[6709] <= 0.5\\ngini = 0.247\\nsamples = 7\\nvalue = [0.0, 5.988, 1.011]'),\n",
              " Text(195.73394327538884, 148.70896551724138, 'gini = 0.0\\nsamples = 6\\nvalue = [0.0, 5.988, 0.0]'),\n",
              " Text(198.18444647758463, 148.70896551724138, 'gini = -0.0\\nsamples = 1\\nvalue = [0.0, 0.0, 1.011]'),\n",
              " Text(199.40969807868254, 151.20827586206897, 'gini = -0.0\\nsamples = 1\\nvalue = [0.0, 0.0, 1.011]'),\n",
              " Text(200.63494967978042, 153.70758620689656, 'gini = -0.0\\nsamples = 3\\nvalue = [0.0, 0.0, 3.034]'),\n",
              " Text(199.40969807868254, 158.70620689655172, 'gini = -0.0\\nsamples = 3\\nvalue = [0.0, 2.994, 0.0]'),\n",
              " Text(200.63494967978042, 161.2055172413793, 'gini = -0.0\\nsamples = 4\\nvalue = [0.0, 3.992, 0.0]'),\n",
              " Text(201.86020128087833, 163.7048275862069, 'gini = -0.0\\nsamples = 5\\nvalue = [0.0, 4.99, 0.0]'),\n",
              " Text(203.08545288197624, 166.2041379310345, 'gini = -0.0\\nsamples = 6\\nvalue = [0.0, 5.988, 0.0]'),\n",
              " Text(204.31070448307412, 168.70344827586206, 'gini = -0.0\\nsamples = 7\\nvalue = [0.0, 6.986, 0.0]'),\n",
              " Text(205.53595608417203, 171.20275862068965, 'gini = -0.0\\nsamples = 10\\nvalue = [0.0, 9.98, 0.0]'),\n",
              " Text(209.2117108874657, 173.70206896551724, 'X[2800] <= 0.5\\ngini = 0.174\\nsamples = 21\\nvalue = [0.0, 18.961, 2.022]'),\n",
              " Text(207.98645928636782, 171.20275862068965, 'gini = 0.0\\nsamples = 19\\nvalue = [0.0, 18.961, 0.0]'),\n",
              " Text(210.4369624885636, 171.20275862068965, 'gini = 0.0\\nsamples = 2\\nvalue = [0.0, 0.0, 2.022]'),\n",
              " Text(209.2117108874657, 176.20137931034483, 'gini = -0.0\\nsamples = 22\\nvalue = [21.803, 0.0, 0.0]'),\n",
              " Text(214.11271729185728, 178.70068965517243, 'X[845] <= 0.5\\ngini = 0.463\\nsamples = 44\\nvalue = [13.875, 28.941, 1.011]'),\n",
              " Text(212.8874656907594, 176.20137931034483, 'X[8161] <= 0.5\\ngini = 0.065\\nsamples = 30\\nvalue = [0.0, 28.941, 1.011]'),\n",
              " Text(211.6622140896615, 173.70206896551724, 'gini = 0.0\\nsamples = 29\\nvalue = [0.0, 28.941, 0.0]'),\n",
              " Text(214.11271729185728, 173.70206896551724, 'gini = 0.0\\nsamples = 1\\nvalue = [0.0, 0.0, 1.011]'),\n",
              " Text(215.3379688929552, 176.20137931034483, 'gini = 0.0\\nsamples = 14\\nvalue = [13.875, 0.0, 0.0]'),\n",
              " Text(214.72534309240623, 183.69931034482758, 'X[8389] <= 0.5\\ngini = 0.044\\nsamples = 135\\nvalue = [130.82, 2.994, 0.0]'),\n",
              " Text(213.50009149130832, 181.2, 'gini = 0.0\\nsamples = 3\\nvalue = [0.0, 2.994, 0.0]'),\n",
              " Text(215.95059469350414, 181.2, 'gini = 0.0\\nsamples = 132\\nvalue = [130.82, 0.0, 0.0]'),\n",
              " Text(223.91473010064044, 186.19862068965517, 'X[9435] <= 0.5\\ngini = 0.171\\nsamples = 160\\nvalue = [143.703, 14.969, 0.0]'),\n",
              " Text(222.68947849954256, 183.69931034482758, 'X[6419] <= 0.5\\ngini = 0.1\\nsamples = 153\\nvalue = [143.703, 7.984, 0.0]'),\n",
              " Text(221.46422689844465, 181.2, 'X[9513] <= 0.5\\ngini = 0.053\\nsamples = 149\\nvalue = [143.703, 3.992, 0.0]'),\n",
              " Text(219.01372369624886, 178.70068965517243, 'X[8520] <= 0.5\\ngini = 0.014\\nsamples = 145\\nvalue = [142.712, 0.998, 0.0]'),\n",
              " Text(217.78847209515098, 176.20137931034483, 'gini = -0.0\\nsamples = 144\\nvalue = [142.712, 0.0, 0.0]'),\n",
              " Text(220.23897529734677, 176.20137931034483, 'gini = 0.0\\nsamples = 1\\nvalue = [0.0, 0.998, 0.0]'),\n",
              " Text(223.91473010064044, 178.70068965517243, 'X[4862] <= 0.5\\ngini = 0.374\\nsamples = 4\\nvalue = [0.991, 2.994, 0.0]'),\n",
              " Text(222.68947849954256, 176.20137931034483, 'gini = 0.0\\nsamples = 3\\nvalue = [0.0, 2.994, 0.0]'),\n",
              " Text(225.13998170173835, 176.20137931034483, 'gini = 0.0\\nsamples = 1\\nvalue = [0.991, 0.0, 0.0]'),\n",
              " Text(223.91473010064044, 181.2, 'gini = 0.0\\nsamples = 4\\nvalue = [0.0, 3.992, 0.0]'),\n",
              " Text(225.13998170173835, 183.69931034482758, 'gini = 0.0\\nsamples = 7\\nvalue = [0.0, 6.986, 0.0]'),\n",
              " Text(236.16724611161942, 188.69793103448276, 'X[9513] <= 0.5\\ngini = 0.26\\nsamples = 200\\nvalue = [0.0, 30.937, 170.89]'),\n",
              " Text(233.71674290942363, 186.19862068965517, 'X[10820] <= 0.5\\ngini = 0.168\\nsamples = 182\\nvalue = [0.0, 16.965, 166.845]'),\n",
              " Text(232.49149130832572, 183.69931034482758, 'X[4164] <= 0.5\\ngini = 0.107\\nsamples = 175\\nvalue = [0.0, 9.98, 166.845]'),\n",
              " Text(231.26623970722784, 181.2, 'X[3439] <= 0.5\\ngini = 0.077\\nsamples = 172\\nvalue = [0.0, 6.986, 166.845]'),\n",
              " Text(230.04098810612993, 178.70068965517243, 'X[4184] <= 0.5\\ngini = 0.046\\nsamples = 169\\nvalue = [0.0, 3.992, 166.845]'),\n",
              " Text(227.59048490393414, 176.20137931034483, 'X[9094] <= 0.5\\ngini = 0.012\\nsamples = 165\\nvalue = [0.0, 0.998, 165.834]'),\n",
              " Text(226.36523330283623, 173.70206896551724, 'gini = 0.0\\nsamples = 164\\nvalue = [0.0, 0.0, 165.834]'),\n",
              " Text(228.81573650503205, 173.70206896551724, 'gini = 0.0\\nsamples = 1\\nvalue = [0.0, 0.998, 0.0]'),\n",
              " Text(232.49149130832572, 176.20137931034483, 'X[8248] <= 0.5\\ngini = 0.377\\nsamples = 4\\nvalue = [0.0, 2.994, 1.011]'),\n",
              " Text(231.26623970722784, 173.70206896551724, 'gini = 0.0\\nsamples = 3\\nvalue = [0.0, 2.994, 0.0]'),\n",
              " Text(233.71674290942363, 173.70206896551724, 'gini = 0.0\\nsamples = 1\\nvalue = [0.0, 0.0, 1.011]'),\n",
              " Text(232.49149130832572, 178.70068965517243, 'gini = 0.0\\nsamples = 3\\nvalue = [0.0, 2.994, 0.0]'),\n",
              " Text(233.71674290942363, 181.2, 'gini = 0.0\\nsamples = 3\\nvalue = [0.0, 2.994, 0.0]'),\n",
              " Text(234.9419945105215, 183.69931034482758, 'gini = 0.0\\nsamples = 7\\nvalue = [0.0, 6.986, 0.0]'),\n",
              " Text(238.6177493138152, 186.19862068965517, 'X[2916] <= 0.5\\ngini = 0.348\\nsamples = 18\\nvalue = [0.0, 13.972, 4.045]'),\n",
              " Text(237.3924977127173, 183.69931034482758, 'X[9148] <= 0.5\\ngini = 0.126\\nsamples = 15\\nvalue = [0.0, 13.972, 1.011]'),\n",
              " Text(236.16724611161942, 181.2, 'gini = 0.0\\nsamples = 14\\nvalue = [0.0, 13.972, 0.0]'),\n",
              " Text(238.6177493138152, 181.2, 'gini = -0.0\\nsamples = 1\\nvalue = [0.0, 0.0, 1.011]'),\n",
              " Text(239.8430009149131, 183.69931034482758, 'gini = 0.0\\nsamples = 3\\nvalue = [0.0, 0.0, 3.034]'),\n",
              " Text(244.74400731930467, 191.19724137931036, 'X[4678] <= 2.5\\ngini = 0.257\\nsamples = 100\\nvalue = [0.0, 84.827, 15.168]'),\n",
              " Text(242.29350411710888, 188.69793103448276, 'X[6012] <= 0.5\\ngini = 0.028\\nsamples = 72\\nvalue = [0.0, 70.856, 1.011]'),\n",
              " Text(241.068252516011, 186.19862068965517, 'gini = 0.0\\nsamples = 71\\nvalue = [0.0, 70.856, 0.0]'),\n",
              " Text(243.5187557182068, 186.19862068965517, 'gini = -0.0\\nsamples = 1\\nvalue = [0.0, 0.0, 1.011]'),\n",
              " Text(247.19451052150046, 188.69793103448276, 'X[9513] <= 0.5\\ngini = 0.5\\nsamples = 28\\nvalue = [0.0, 13.972, 14.157]'),\n",
              " Text(245.96925892040258, 186.19862068965517, 'gini = 0.0\\nsamples = 10\\nvalue = [0.0, 9.98, 0.0]'),\n",
              " Text(248.41976212259837, 186.19862068965517, 'X[9519] <= 0.5\\ngini = 0.343\\nsamples = 18\\nvalue = [0.0, 3.992, 14.157]'),\n",
              " Text(247.19451052150046, 183.69931034482758, 'X[10151] <= 1.0\\ngini = 0.217\\nsamples = 16\\nvalue = [0.0, 1.996, 14.157]'),\n",
              " Text(245.96925892040258, 181.2, 'X[2487] <= 0.5\\ngini = 0.123\\nsamples = 15\\nvalue = [0.0, 0.998, 14.157]'),\n",
              " Text(244.74400731930467, 178.70068965517243, 'gini = 0.0\\nsamples = 14\\nvalue = [0.0, 0.0, 14.157]'),\n",
              " Text(247.19451052150046, 178.70068965517243, 'gini = -0.0\\nsamples = 1\\nvalue = [0.0, 0.998, 0.0]'),\n",
              " Text(248.41976212259837, 181.2, 'gini = -0.0\\nsamples = 1\\nvalue = [0.0, 0.998, 0.0]'),\n",
              " Text(249.64501372369625, 183.69931034482758, 'gini = -0.0\\nsamples = 2\\nvalue = [0.0, 1.996, 0.0]'),\n",
              " Text(258.22177493138156, 193.69655172413792, 'X[11188] <= 0.5\\ngini = 0.323\\nsamples = 136\\nvalue = [0.991, 108.778, 26.291]'),\n",
              " Text(256.99652333028365, 191.19724137931036, 'X[5310] <= 0.5\\ngini = 0.227\\nsamples = 125\\nvalue = [0.991, 108.778, 15.168]'),\n",
              " Text(254.54602012808783, 188.69793103448276, 'X[9727] <= 1.5\\ngini = 0.044\\nsamples = 89\\nvalue = [0.991, 86.823, 1.011]'),\n",
              " Text(253.32076852698995, 186.19862068965517, 'X[9667] <= 0.5\\ngini = 0.022\\nsamples = 88\\nvalue = [0.991, 86.823, 0.0]'),\n",
              " Text(252.09551692589204, 183.69931034482758, 'gini = 0.0\\nsamples = 87\\nvalue = [0.0, 86.823, 0.0]'),\n",
              " Text(254.54602012808783, 183.69931034482758, 'gini = 0.0\\nsamples = 1\\nvalue = [0.991, 0.0, 0.0]'),\n",
              " Text(255.77127172918574, 186.19862068965517, 'gini = -0.0\\nsamples = 1\\nvalue = [0.0, 0.0, 1.011]'),\n",
              " Text(259.4470265324794, 188.69793103448276, 'X[8389] <= 0.5\\ngini = 0.477\\nsamples = 36\\nvalue = [0.0, 21.955, 14.157]'),\n",
              " Text(258.22177493138156, 186.19862068965517, 'gini = 0.0\\nsamples = 17\\nvalue = [0.0, 16.965, 0.0]'),\n",
              " Text(260.6722781335773, 186.19862068965517, 'X[4678] <= 0.5\\ngini = 0.385\\nsamples = 19\\nvalue = [0.0, 4.99, 14.157]'),\n",
              " Text(258.22177493138156, 183.69931034482758, 'X[2483] <= 0.5\\ngini = 0.131\\nsamples = 14\\nvalue = [0.0, 0.998, 13.145]'),\n",
              " Text(256.99652333028365, 181.2, 'gini = 0.0\\nsamples = 13\\nvalue = [0.0, 0.0, 13.145]'),\n",
              " Text(259.4470265324794, 181.2, 'gini = -0.0\\nsamples = 1\\nvalue = [0.0, 0.998, 0.0]'),\n",
              " Text(263.12278133577314, 183.69931034482758, 'X[1482] <= 0.5\\ngini = 0.323\\nsamples = 5\\nvalue = [0.0, 3.992, 1.011]'),\n",
              " Text(261.89752973467523, 181.2, 'gini = 0.0\\nsamples = 4\\nvalue = [0.0, 3.992, 0.0]'),\n",
              " Text(264.348032936871, 181.2, 'gini = 0.0\\nsamples = 1\\nvalue = [0.0, 0.0, 1.011]'),\n",
              " Text(259.4470265324794, 191.19724137931036, 'gini = 0.0\\nsamples = 11\\nvalue = [0.0, 0.0, 11.123]'),\n",
              " Text(265.5732845379689, 196.1958620689655, 'X[10624] <= 0.5\\ngini = 0.097\\nsamples = 257\\nvalue = [241.818, 11.976, 1.011]'),\n",
              " Text(263.12278133577314, 193.69655172413792, 'X[9526] <= 1.0\\ngini = 0.182\\nsamples = 10\\nvalue = [0.0, 8.982, 1.011]'),\n",
              " Text(261.89752973467523, 191.19724137931036, 'gini = 0.0\\nsamples = 9\\nvalue = [0.0, 8.982, 0.0]'),\n",
              " Text(264.348032936871, 191.19724137931036, 'gini = -0.0\\nsamples = 1\\nvalue = [0.0, 0.0, 1.011]'),\n",
              " Text(268.0237877401647, 193.69655172413792, 'X[5310] <= 0.5\\ngini = 0.024\\nsamples = 247\\nvalue = [241.818, 2.994, 0.0]'),\n",
              " Text(266.7985361390668, 191.19724137931036, 'gini = 0.0\\nsamples = 244\\nvalue = [241.818, 0.0, 0.0]'),\n",
              " Text(269.2490393412626, 191.19724137931036, 'gini = 0.0\\nsamples = 3\\nvalue = [0.0, 2.994, 0.0]'),\n",
              " Text(272.9247941445563, 198.6951724137931, 'X[6595] <= 1.5\\ngini = 0.05\\nsamples = 118\\nvalue = [0.0, 114.766, 3.034]'),\n",
              " Text(271.6995425434584, 196.1958620689655, 'X[2804] <= 0.5\\ngini = 0.017\\nsamples = 116\\nvalue = [0.0, 114.766, 1.011]'),\n",
              " Text(270.4742909423605, 193.69655172413792, 'gini = 0.0\\nsamples = 115\\nvalue = [0.0, 114.766, 0.0]'),\n",
              " Text(272.9247941445563, 193.69655172413792, 'gini = -0.0\\nsamples = 1\\nvalue = [0.0, 0.0, 1.011]'),\n",
              " Text(274.15004574565415, 196.1958620689655, 'gini = -0.0\\nsamples = 2\\nvalue = [0.0, 0.0, 2.022]'),\n",
              " Text(276.60054894785, 201.1944827586207, 'X[6187] <= 1.0\\ngini = 0.007\\nsamples = 290\\nvalue = [286.416, 0.998, 0.0]'),\n",
              " Text(275.37529734675206, 198.6951724137931, 'gini = 0.0\\nsamples = 289\\nvalue = [286.416, 0.0, 0.0]'),\n",
              " Text(277.8258005489479, 198.6951724137931, 'gini = -0.0\\nsamples = 1\\nvalue = [0.0, 0.998, 0.0]'),\n",
              " Text(282.72680695333946, 203.6937931034483, 'X[3537] <= 0.5\\ngini = 0.042\\nsamples = 279\\nvalue = [0.0, 5.988, 276.053]'),\n",
              " Text(281.50155535224155, 201.1944827586207, 'X[9435] <= 1.5\\ngini = 0.028\\nsamples = 277\\nvalue = [0.0, 3.992, 276.053]'),\n",
              " Text(280.27630375114364, 198.6951724137931, 'X[4184] <= 0.5\\ngini = 0.014\\nsamples = 275\\nvalue = [0.0, 1.996, 276.053]'),\n",
              " Text(279.05105215004573, 196.1958620689655, 'gini = 0.0\\nsamples = 273\\nvalue = [0.0, 0.0, 276.053]'),\n",
              " Text(281.50155535224155, 196.1958620689655, 'gini = -0.0\\nsamples = 2\\nvalue = [0.0, 1.996, 0.0]'),\n",
              " Text(282.72680695333946, 198.6951724137931, 'gini = -0.0\\nsamples = 2\\nvalue = [0.0, 1.996, 0.0]'),\n",
              " Text(283.9520585544374, 201.1944827586207, 'gini = -0.0\\nsamples = 2\\nvalue = [0.0, 1.996, 0.0]'),\n",
              " Text(286.40256175663313, 206.19310344827585, 'X[7643] <= 0.5\\ngini = 0.013\\nsamples = 158\\nvalue = [0.0, 156.681, 1.011]'),\n",
              " Text(285.1773101555352, 203.6937931034483, 'gini = 0.0\\nsamples = 157\\nvalue = [0.0, 156.681, 0.0]'),\n",
              " Text(287.62781335773104, 203.6937931034483, 'gini = 0.0\\nsamples = 1\\nvalue = [0.0, 0.0, 1.011]'),\n",
              " Text(293.14144556267155, 208.69241379310344, 'X[1100] <= 0.5\\ngini = 0.254\\nsamples = 382\\nvalue = [1.982, 325.337, 54.604]'),\n",
              " Text(291.91619396157364, 206.19310344827585, 'X[7419] <= 0.5\\ngini = 0.198\\nsamples = 366\\nvalue = [1.982, 325.337, 38.425]'),\n",
              " Text(290.6909423604758, 203.6937931034483, 'X[2792] <= 0.5\\ngini = 0.152\\nsamples = 355\\nvalue = [1.982, 325.337, 27.302]'),\n",
              " Text(288.24043915827997, 201.1944827586207, 'X[5377] <= 0.5\\ngini = 0.111\\nsamples = 344\\nvalue = [1.982, 323.341, 18.201]'),\n",
              " Text(287.01518755718206, 198.6951724137931, 'X[3310] <= 0.5\\ngini = 0.101\\nsamples = 342\\nvalue = [1.982, 323.341, 16.179]'),\n",
              " Text(283.9520585544374, 196.1958620689655, 'X[7001] <= 2.5\\ngini = 0.048\\nsamples = 286\\nvalue = [1.982, 278.433, 5.056]'),\n",
              " Text(282.72680695333946, 193.69655172413792, 'X[8125] <= 0.5\\ngini = 0.042\\nsamples = 285\\nvalue = [1.982, 278.433, 4.045]'),\n",
              " Text(281.50155535224155, 191.19724137931036, 'X[7888] <= 0.5\\ngini = 0.035\\nsamples = 284\\nvalue = [1.982, 278.433, 3.034]'),\n",
              " Text(280.27630375114364, 188.69793103448276, 'X[2977] <= 0.5\\ngini = 0.028\\nsamples = 283\\nvalue = [1.982, 278.433, 2.022]'),\n",
              " Text(279.05105215004573, 186.19862068965517, 'X[4381] <= 0.5\\ngini = 0.021\\nsamples = 282\\nvalue = [0.991, 278.433, 2.022]'),\n",
              " Text(277.8258005489479, 183.69931034482758, 'X[11188] <= 0.5\\ngini = 0.014\\nsamples = 281\\nvalue = [0.0, 278.433, 2.022]'),\n",
              " Text(276.60054894785, 181.2, 'gini = 0.0\\nsamples = 270\\nvalue = [0.0, 269.451, 0.0]'),\n",
              " Text(279.05105215004573, 181.2, 'X[4678] <= 0.5\\ngini = 0.3\\nsamples = 11\\nvalue = [0.0, 8.982, 2.022]'),\n",
              " Text(277.8258005489479, 178.70068965517243, 'X[8815] <= 0.5\\ngini = 0.442\\nsamples = 3\\nvalue = [0.0, 0.998, 2.022]'),\n",
              " Text(276.60054894785, 176.20137931034483, 'gini = 0.0\\nsamples = 1\\nvalue = [0.0, 0.998, 0.0]'),\n",
              " Text(279.05105215004573, 176.20137931034483, 'gini = 0.0\\nsamples = 2\\nvalue = [0.0, 0.0, 2.022]'),\n",
              " Text(280.27630375114364, 178.70068965517243, 'gini = -0.0\\nsamples = 8\\nvalue = [0.0, 7.984, 0.0]'),\n",
              " Text(280.27630375114364, 183.69931034482758, 'gini = -0.0\\nsamples = 1\\nvalue = [0.991, 0.0, 0.0]'),\n",
              " Text(281.50155535224155, 186.19862068965517, 'gini = -0.0\\nsamples = 1\\nvalue = [0.991, 0.0, 0.0]'),\n",
              " Text(282.72680695333946, 188.69793103448276, 'gini = 0.0\\nsamples = 1\\nvalue = [0.0, 0.0, 1.011]'),\n",
              " Text(283.9520585544374, 191.19724137931036, 'gini = 0.0\\nsamples = 1\\nvalue = [0.0, 0.0, 1.011]'),\n",
              " Text(285.1773101555352, 193.69655172413792, 'gini = 0.0\\nsamples = 1\\nvalue = [0.0, 0.0, 1.011]'),\n",
              " Text(290.0783165599268, 196.1958620689655, 'X[10820] <= 0.5\\ngini = 0.318\\nsamples = 56\\nvalue = [0.0, 44.908, 11.123]'),\n",
              " Text(287.62781335773104, 193.69655172413792, 'X[7146] <= 0.5\\ngini = 0.192\\nsamples = 47\\nvalue = [0.0, 41.915, 5.056]'),\n",
              " Text(286.40256175663313, 191.19724137931036, 'X[3322] <= 0.5\\ngini = 0.126\\nsamples = 45\\nvalue = [0.0, 41.915, 3.034]'),\n",
              " Text(285.1773101555352, 188.69793103448276, 'gini = -0.0\\nsamples = 39\\nvalue = [0.0, 38.921, 0.0]'),\n",
              " Text(287.62781335773104, 188.69793103448276, 'X[4678] <= 0.5\\ngini = 0.5\\nsamples = 6\\nvalue = [0.0, 2.994, 3.034]'),\n",
              " Text(286.40256175663313, 186.19862068965517, 'gini = 0.0\\nsamples = 3\\nvalue = [0.0, 0.0, 3.034]'),\n",
              " Text(288.85306495882895, 186.19862068965517, 'gini = 0.0\\nsamples = 3\\nvalue = [0.0, 2.994, 0.0]'),\n",
              " Text(288.85306495882895, 191.19724137931036, 'gini = 0.0\\nsamples = 2\\nvalue = [0.0, 0.0, 2.022]'),\n",
              " Text(292.5288197621226, 193.69655172413792, 'X[8815] <= 1.5\\ngini = 0.442\\nsamples = 9\\nvalue = [0.0, 2.994, 6.067]'),\n",
              " Text(291.3035681610247, 191.19724137931036, 'gini = 0.0\\nsamples = 3\\nvalue = [0.0, 2.994, 0.0]'),\n",
              " Text(293.75407136322053, 191.19724137931036, 'gini = 0.0\\nsamples = 6\\nvalue = [0.0, 0.0, 6.067]'),\n",
              " Text(289.4656907593779, 198.6951724137931, 'gini = 0.0\\nsamples = 2\\nvalue = [0.0, 0.0, 2.022]'),\n",
              " Text(293.14144556267155, 201.1944827586207, 'X[4184] <= 0.5\\ngini = 0.295\\nsamples = 11\\nvalue = [0.0, 1.996, 9.101]'),\n",
              " Text(291.91619396157364, 198.6951724137931, 'gini = 0.0\\nsamples = 9\\nvalue = [0.0, 0.0, 9.101]'),\n",
              " Text(294.36669716376946, 198.6951724137931, 'gini = -0.0\\nsamples = 2\\nvalue = [0.0, 1.996, 0.0]'),\n",
              " Text(293.14144556267155, 203.6937931034483, 'gini = 0.0\\nsamples = 11\\nvalue = [0.0, 0.0, 11.123]'),\n",
              " Text(294.36669716376946, 206.19310344827585, 'gini = 0.0\\nsamples = 16\\nvalue = [0.0, 0.0, 16.179]'),\n",
              " Text(311.2139066788655, 211.19172413793103, 'X[4023] <= 0.5\\ngini = 0.144\\nsamples = 444\\nvalue = [1.982, 409.166, 32.358]'),\n",
              " Text(309.98865507776765, 208.69241379310344, 'X[5294] <= 0.5\\ngini = 0.082\\nsamples = 428\\nvalue = [1.982, 409.166, 16.179]'),\n",
              " Text(306.61921317474844, 206.19310344827585, 'X[5808] <= 0.5\\ngini = 0.038\\nsamples = 416\\nvalue = [1.982, 407.17, 6.067]'),\n",
              " Text(303.5560841720037, 203.6937931034483, 'X[9935] <= 0.5\\ngini = 0.029\\nsamples = 414\\nvalue = [0.991, 407.17, 5.056]'),\n",
              " Text(301.1055809698079, 201.1944827586207, 'X[1482] <= 1.5\\ngini = 0.019\\nsamples = 412\\nvalue = [0.0, 407.17, 4.045]'),\n",
              " Text(299.88032936870997, 198.6951724137931, 'X[4448] <= 0.5\\ngini = 0.015\\nsamples = 411\\nvalue = [0.0, 407.17, 3.034]'),\n",
              " Text(298.6550777676121, 196.1958620689655, 'X[9626] <= 0.5\\ngini = 0.01\\nsamples = 410\\nvalue = [0.0, 407.17, 2.022]'),\n",
              " Text(297.4298261665142, 193.69655172413792, 'X[9536] <= 1.0\\ngini = 0.005\\nsamples = 409\\nvalue = [0.0, 407.17, 1.011]'),\n",
              " Text(296.2045745654163, 191.19724137931036, 'gini = 0.0\\nsamples = 408\\nvalue = [0.0, 407.17, 0.0]'),\n",
              " Text(298.6550777676121, 191.19724137931036, 'gini = 0.0\\nsamples = 1\\nvalue = [0.0, 0.0, 1.011]'),\n",
              " Text(299.88032936870997, 193.69655172413792, 'gini = 0.0\\nsamples = 1\\nvalue = [0.0, 0.0, 1.011]'),\n",
              " Text(301.1055809698079, 196.1958620689655, 'gini = 0.0\\nsamples = 1\\nvalue = [0.0, 0.0, 1.011]'),\n",
              " Text(302.3308325709058, 198.6951724137931, 'gini = 0.0\\nsamples = 1\\nvalue = [0.0, 0.0, 1.011]'),\n",
              " Text(306.00658737419946, 201.1944827586207, 'X[7794] <= 1.0\\ngini = 0.5\\nsamples = 2\\nvalue = [0.991, 0.0, 1.011]'),\n",
              " Text(304.78133577310155, 198.6951724137931, 'gini = 0.0\\nsamples = 1\\nvalue = [0.991, 0.0, 0.0]'),\n",
              " Text(307.23183897529736, 198.6951724137931, 'gini = 0.0\\nsamples = 1\\nvalue = [0.0, 0.0, 1.011]'),\n",
              " Text(309.6823421774932, 203.6937931034483, 'X[1003] <= 0.5\\ngini = 0.5\\nsamples = 2\\nvalue = [0.991, 0.0, 1.011]'),\n",
              " Text(308.4570905763953, 201.1944827586207, 'gini = 0.0\\nsamples = 1\\nvalue = [0.0, 0.0, 1.011]'),\n",
              " Text(310.90759377859104, 201.1944827586207, 'gini = 0.0\\nsamples = 1\\nvalue = [0.991, 0.0, 0.0]'),\n",
              " Text(313.35809698078685, 206.19310344827585, 'X[6187] <= 0.5\\ngini = 0.275\\nsamples = 12\\nvalue = [0.0, 1.996, 10.112]'),\n",
              " Text(312.13284537968894, 203.6937931034483, 'gini = 0.0\\nsamples = 2\\nvalue = [0.0, 1.996, 0.0]'),\n",
              " Text(314.58334858188476, 203.6937931034483, 'gini = 0.0\\nsamples = 10\\nvalue = [0.0, 0.0, 10.112]'),\n",
              " Text(312.4391582799634, 208.69241379310344, 'gini = 0.0\\nsamples = 16\\nvalue = [0.0, 0.0, 16.179]'),\n",
              " Text(328.0611161939616, 213.69103448275862, 'X[2801] <= 0.5\\ngini = 0.091\\nsamples = 781\\nvalue = [0.0, 742.487, 37.414]'),\n",
              " Text(323.77273559011894, 211.19172413793103, 'X[8465] <= 0.5\\ngini = 0.066\\nsamples = 765\\nvalue = [0.0, 737.497, 26.291]'),\n",
              " Text(321.3222323879232, 208.69241379310344, 'X[8153] <= 0.5\\ngini = 0.052\\nsamples = 758\\nvalue = [0.0, 736.499, 20.224]'),\n",
              " Text(320.09698078682527, 206.19310344827585, 'X[10043] <= 0.5\\ngini = 0.047\\nsamples = 756\\nvalue = [0.0, 736.499, 18.201]'),\n",
              " Text(317.0338517840805, 203.6937931034483, 'X[470] <= 1.5\\ngini = 0.023\\nsamples = 709\\nvalue = [0.0, 699.575, 8.089]'),\n",
              " Text(314.58334858188476, 201.1944827586207, 'X[393] <= 0.5\\ngini = 0.017\\nsamples = 706\\nvalue = [0.0, 698.577, 6.067]'),\n",
              " Text(313.35809698078685, 198.6951724137931, 'X[10646] <= 0.5\\ngini = 0.014\\nsamples = 705\\nvalue = [0.0, 698.577, 5.056]'),\n",
              " Text(310.90759377859104, 196.1958620689655, 'X[7451] <= 0.5\\ngini = 0.006\\nsamples = 693\\nvalue = [0.0, 689.595, 2.022]'),\n",
              " Text(309.6823421774932, 193.69655172413792, 'gini = 0.0\\nsamples = 687\\nvalue = [0.0, 685.603, 0.0]'),\n",
              " Text(312.13284537968894, 193.69655172413792, 'X[9435] <= 1.5\\ngini = 0.446\\nsamples = 6\\nvalue = [0.0, 3.992, 2.022]'),\n",
              " Text(310.90759377859104, 191.19724137931036, 'gini = 0.0\\nsamples = 4\\nvalue = [0.0, 3.992, 0.0]'),\n",
              " Text(313.35809698078685, 191.19724137931036, 'gini = 0.0\\nsamples = 2\\nvalue = [0.0, 0.0, 2.022]'),\n",
              " Text(315.8086001829826, 196.1958620689655, 'X[10926] <= 0.5\\ngini = 0.377\\nsamples = 12\\nvalue = [0.0, 8.982, 3.034]'),\n",
              " Text(314.58334858188476, 193.69655172413792, 'gini = -0.0\\nsamples = 9\\nvalue = [0.0, 8.982, 0.0]'),\n",
              " Text(317.0338517840805, 193.69655172413792, 'gini = -0.0\\nsamples = 3\\nvalue = [0.0, 0.0, 3.034]'),\n",
              " Text(315.8086001829826, 198.6951724137931, 'gini = -0.0\\nsamples = 1\\nvalue = [0.0, 0.0, 1.011]'),\n",
              " Text(319.48435498627634, 201.1944827586207, 'X[1488] <= 0.5\\ngini = 0.442\\nsamples = 3\\nvalue = [0.0, 0.998, 2.022]'),\n",
              " Text(318.25910338517843, 198.6951724137931, 'gini = 0.0\\nsamples = 1\\nvalue = [0.0, 0.998, 0.0]'),\n",
              " Text(320.7096065873742, 198.6951724137931, 'gini = 0.0\\nsamples = 2\\nvalue = [0.0, 0.0, 2.022]'),\n",
              " Text(323.16010978957, 203.6937931034483, 'X[6332] <= 0.5\\ngini = 0.338\\nsamples = 47\\nvalue = [0.0, 36.925, 10.112]'),\n",
              " Text(321.9348581884721, 201.1944827586207, 'gini = -0.0\\nsamples = 36\\nvalue = [0.0, 35.927, 0.0]'),\n",
              " Text(324.3853613906679, 201.1944827586207, 'X[5436] <= 0.5\\ngini = 0.164\\nsamples = 11\\nvalue = [0.0, 0.998, 10.112]'),\n",
              " Text(323.16010978957, 198.6951724137931, 'gini = 0.0\\nsamples = 10\\nvalue = [0.0, 0.0, 10.112]'),\n",
              " Text(325.6106129917658, 198.6951724137931, 'gini = -0.0\\nsamples = 1\\nvalue = [0.0, 0.998, 0.0]'),\n",
              " Text(322.5474839890211, 206.19310344827585, 'gini = -0.0\\nsamples = 2\\nvalue = [0.0, 0.0, 2.022]'),\n",
              " Text(326.22323879231476, 208.69241379310344, 'X[9800] <= 0.5\\ngini = 0.243\\nsamples = 7\\nvalue = [0.0, 0.998, 6.067]'),\n",
              " Text(324.99798719121685, 206.19310344827585, 'gini = -0.0\\nsamples = 6\\nvalue = [0.0, 0.0, 6.067]'),\n",
              " Text(327.44849039341267, 206.19310344827585, 'gini = 0.0\\nsamples = 1\\nvalue = [0.0, 0.998, 0.0]'),\n",
              " Text(332.34949679780425, 211.19172413793103, 'X[7434] <= 0.5\\ngini = 0.428\\nsamples = 16\\nvalue = [0.0, 4.99, 11.123]'),\n",
              " Text(331.12424519670634, 208.69241379310344, 'X[7775] <= 0.5\\ngini = 0.151\\nsamples = 12\\nvalue = [0.0, 0.998, 11.123]'),\n",
              " Text(329.89899359560843, 206.19310344827585, 'gini = 0.0\\nsamples = 11\\nvalue = [0.0, 0.0, 11.123]'),\n",
              " Text(332.34949679780425, 206.19310344827585, 'gini = -0.0\\nsamples = 1\\nvalue = [0.0, 0.998, 0.0]'),\n",
              " Text(333.5747483989021, 208.69241379310344, 'gini = -0.0\\nsamples = 4\\nvalue = [0.0, 3.992, 0.0]')]"
            ]
          },
          "metadata": {
            "tags": []
          },
          "execution_count": 28
        },
        {
          "output_type": "display_data",
          "data": {
            "image/png": "[encoded data removed]",
            "text/plain": [
              "<Figure size 432x288 with 1 Axes>"
            ]
          },
          "metadata": {
            "tags": [],
            "needs_background": "light"
          }
        }
      ]
    },
    {
      "cell_type": "code",
      "metadata": {
        "colab": {
          "base_uri": "https://localhost:8080/"
        },
        "id": "sGOCWm8Xlf37",
        "outputId": "2f54eeaf-a1d9-4027-e254-de388d13b600"
      },
      "source": [
        "# Testing Accuracy of Decision Tree Classifier \n",
        "import numpy as np\n",
        "predicted18 = DT_clf.predict(x_test)\n",
        "np.mean(predicted18 == y_test) "
      ],
      "execution_count": 29,
      "outputs": [
        {
          "output_type": "execute_result",
          "data": {
            "text/plain": [
              "0.9545983701979045"
            ]
          },
          "metadata": {
            "tags": []
          },
          "execution_count": 29
        }
      ]
    },
    {
      "cell_type": "code",
      "metadata": {
        "colab": {
          "base_uri": "https://localhost:8080/"
        },
        "id": "woljm5zblf9p",
        "outputId": "286b79cf-715f-4649-ef5c-943420fdd2b0"
      },
      "source": [
        "# Training Accuracy of Decision Tree Classifier \n",
        "import numpy as np\n",
        "predicted19 = DT_clf.predict(x_train) \n",
        "np.mean(predicted19 == y_train)"
      ],
      "execution_count": 30,
      "outputs": [
        {
          "output_type": "execute_result",
          "data": {
            "text/plain": [
              "0.9966525978751274"
            ]
          },
          "metadata": {
            "tags": []
          },
          "execution_count": 30
        }
      ]
    },
    {
      "cell_type": "code",
      "metadata": {
        "colab": {
          "base_uri": "https://localhost:8080/"
        },
        "id": "JCEjP2-JlgDi",
        "outputId": "5ac6830a-e640-4f1a-ec59-3710c5334739"
      },
      "source": [
        "# Testing classification report \n",
        "import seaborn as sns\n",
        "from sklearn import metrics\n",
        "print(metrics.classification_report(y_test, predicted18))"
      ],
      "execution_count": 31,
      "outputs": [
        {
          "output_type": "stream",
          "text": [
            "              precision    recall  f1-score   support\n",
            "\n",
            "           0       0.97      0.99      0.98       552\n",
            "           1       0.97      0.90      0.94       568\n",
            "           2       0.92      0.97      0.94       598\n",
            "\n",
            "    accuracy                           0.95      1718\n",
            "   macro avg       0.96      0.95      0.95      1718\n",
            "weighted avg       0.96      0.95      0.95      1718\n",
            "\n"
          ],
          "name": "stdout"
        }
      ]
    },
    {
      "cell_type": "code",
      "metadata": {
        "colab": {
          "base_uri": "https://localhost:8080/"
        },
        "id": "QOFMZs5plgH5",
        "outputId": "98fc0135-0e2f-4142-d3e2-400df6790112"
      },
      "source": [
        "# Training classification report \n",
        "import seaborn as sns\n",
        "from sklearn import metrics\n",
        "print(metrics.classification_report(y_train, predicted19))"
      ],
      "execution_count": 32,
      "outputs": [
        {
          "output_type": "stream",
          "text": [
            "              precision    recall  f1-score   support\n",
            "\n",
            "           0       1.00      0.99      1.00      2311\n",
            "           1       1.00      1.00      1.00      2295\n",
            "           2       0.99      1.00      0.99      2265\n",
            "\n",
            "    accuracy                           1.00      6871\n",
            "   macro avg       1.00      1.00      1.00      6871\n",
            "weighted avg       1.00      1.00      1.00      6871\n",
            "\n"
          ],
          "name": "stdout"
        }
      ]
    },
    {
      "cell_type": "code",
      "metadata": {
        "id": "8G6lPwfkLvGz"
      },
      "source": [],
      "execution_count": null,
      "outputs": []
    },
    {
      "cell_type": "code",
      "metadata": {
        "id": "jBNVChm6LvOW"
      },
      "source": [],
      "execution_count": null,
      "outputs": []
    },
    {
      "cell_type": "code",
      "metadata": {
        "id": "lx6C2jdELvVy"
      },
      "source": [],
      "execution_count": null,
      "outputs": []
    },
    {
      "cell_type": "code",
      "metadata": {
        "id": "ImcNwB0NLvdK"
      },
      "source": [],
      "execution_count": null,
      "outputs": []
    },
    {
      "cell_type": "code",
      "metadata": {
        "id": "V4UsXYj8Lvkc"
      },
      "source": [],
      "execution_count": null,
      "outputs": []
    },
    {
      "cell_type": "code",
      "metadata": {
        "id": "hr7AXOFrLvsL"
      },
      "source": [],
      "execution_count": null,
      "outputs": []
    },
    {
      "cell_type": "code",
      "metadata": {
        "id": "pihHciHdLv2K"
      },
      "source": [],
      "execution_count": null,
      "outputs": []
    },
    {
      "cell_type": "code",
      "metadata": {
        "id": "yjAzOGk8Lv-Q"
      },
      "source": [],
      "execution_count": null,
      "outputs": []
    },
    {
      "cell_type": "code",
      "metadata": {
        "id": "jwkoOdFQLwGU"
      },
      "source": [],
      "execution_count": null,
      "outputs": []
    },
    {
      "cell_type": "code",
      "metadata": {
        "id": "bWMZbuBTLwOd"
      },
      "source": [],
      "execution_count": null,
      "outputs": []
    },
    {
      "cell_type": "code",
      "metadata": {
        "id": "V2mE6axSAGlx"
      },
      "source": [],
      "execution_count": null,
      "outputs": []
    },
    {
      "cell_type": "code",
      "metadata": {
        "id": "o8fNi9fdAGsH"
      },
      "source": [],
      "execution_count": null,
      "outputs": []
    },
    {
      "cell_type": "code",
      "metadata": {
        "id": "e7Hr1tP9AGx6"
      },
      "source": [],
      "execution_count": null,
      "outputs": []
    },
    {
      "cell_type": "code",
      "metadata": {
        "id": "UcNvAvD3AG31"
      },
      "source": [],
      "execution_count": null,
      "outputs": []
    }
  ]
}