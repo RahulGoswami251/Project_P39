{
  "nbformat": 4,
  "nbformat_minor": 0,
  "metadata": {
    "colab": {
      "name": "P39_Nearest Neighbours .ipynb",
      "provenance": [],
      "collapsed_sections": []
    },
    "kernelspec": {
      "display_name": "Python 3",
      "language": "python",
      "name": "python3"
    },
    "language_info": {
      "codemirror_mode": {
        "name": "ipython",
        "version": 3
      },
      "file_extension": ".py",
      "mimetype": "text/x-python",
      "name": "python",
      "nbconvert_exporter": "python",
      "pygments_lexer": "ipython3",
      "version": "3.8.5"
    }
  },
  "cells": [
    {
      "source": [
        "# Model Building Process "
      ],
      "cell_type": "markdown",
      "metadata": {}
    },
    {
      "cell_type": "code",
      "metadata": {
        "id": "azc5EjqtAfXi"
      },
      "source": [
        "# Import the model data set \n",
        "import pandas as pd\n",
        "df = pd.read_csv(\"Model_data.csv\")"
      ],
      "execution_count": 1,
      "outputs": []
    },
    {
      "cell_type": "code",
      "metadata": {
        "colab": {
          "base_uri": "https://localhost:8080/"
        },
        "id": "qUYwPLok1MSv",
        "outputId": "1d7645fd-35c7-4aab-f5c7-d2901adf0feb"
      },
      "source": [
        "## Applying CountVectorizer & TFIDF \n",
        "# Extracting features by CountVectorizer from reviews \n",
        "from sklearn.feature_extraction.text import CountVectorizer\n",
        "count_vect = CountVectorizer()\n",
        "reviews_feature_cv = count_vect.fit_transform(df.JwMarriot_reviews).toarray()\n",
        "reviews_feature_cv.shape"
      ],
      "execution_count": 2,
      "outputs": [
        {
          "output_type": "execute_result",
          "data": {
            "text/plain": [
              "(3000, 11259)"
            ]
          },
          "metadata": {
            "tags": []
          },
          "execution_count": 2
        }
      ]
    },
    {
      "cell_type": "code",
      "metadata": {
        "colab": {
          "base_uri": "https://localhost:8080/"
        },
        "id": "yeaFEIznGOT1",
        "outputId": "618bcc5e-76dc-4130-f042-792b8d5dc312"
      },
      "source": [
        "# Extracting features by TFIDF from reviews\n",
        "from sklearn.feature_extraction.text import TfidfTransformer\n",
        "tfidf_transformer = TfidfTransformer()\n",
        "reviews_feature_tfidf = tfidf_transformer.fit_transform(reviews_feature_cv).toarray()\n",
        "reviews_feature_tfidf.shape"
      ],
      "execution_count": 3,
      "outputs": [
        {
          "output_type": "execute_result",
          "data": {
            "text/plain": [
              "(3000, 11259)"
            ]
          },
          "metadata": {
            "tags": []
          },
          "execution_count": 3
        }
      ]
    },
    {
      "cell_type": "code",
      "metadata": {
        "id": "Hob7kHxr50dT",
        "colab": {
          "base_uri": "https://localhost:8080/"
        },
        "outputId": "bc828d7d-8c9d-4fea-c9c6-2a55011d1b4b"
      },
      "source": [
        "## Aplying SMOTE oversampling technique for removing class imbalance \n",
        "from imblearn.over_sampling import SMOTE\n",
        "over_sample = SMOTE(random_state = 50, sampling_strategy = \"all\")"
      ],
      "execution_count": 4,
      "outputs": [
        {
          "output_type": "stream",
          "text": [
            "/usr/local/lib/python3.6/dist-packages/sklearn/externals/six.py:31: FutureWarning: The module is deprecated in version 0.21 and will be removed in version 0.23 since we've dropped support for Python 2.7. Please rely on the official version of six (https://pypi.org/project/six/).\n",
            "  \"(https://pypi.org/project/six/).\", FutureWarning)\n",
            "/usr/local/lib/python3.6/dist-packages/sklearn/utils/deprecation.py:144: FutureWarning: The sklearn.neighbors.base module is  deprecated in version 0.22 and will be removed in version 0.24. The corresponding classes / functions should instead be imported from sklearn.neighbors. Anything that cannot be imported from sklearn.neighbors is now part of the private API.\n",
            "  warnings.warn(message, FutureWarning)\n"
          ],
          "name": "stderr"
        }
      ]
    },
    {
      "cell_type": "code",
      "metadata": {
        "colab": {
          "base_uri": "https://localhost:8080/"
        },
        "id": "roubRh0K50ts",
        "outputId": "4021e6e9-ae05-4beb-f6d2-7f9934884bed"
      },
      "source": [
        "X_oversample, y_oversample = over_sample.fit_sample(reviews_feature_cv, df['Sentiments']) "
      ],
      "execution_count": 5,
      "outputs": [
        {
          "output_type": "stream",
          "text": [
            "/usr/local/lib/python3.6/dist-packages/sklearn/utils/deprecation.py:87: FutureWarning: Function safe_indexing is deprecated; safe_indexing is deprecated in version 0.22 and will be removed in version 0.24.\n",
            "  warnings.warn(msg, category=FutureWarning)\n",
            "/usr/local/lib/python3.6/dist-packages/sklearn/utils/deprecation.py:87: FutureWarning: Function safe_indexing is deprecated; safe_indexing is deprecated in version 0.22 and will be removed in version 0.24.\n",
            "  warnings.warn(msg, category=FutureWarning)\n"
          ],
          "name": "stderr"
        }
      ]
    },
    {
      "cell_type": "code",
      "metadata": {
        "colab": {
          "base_uri": "https://localhost:8080/"
        },
        "id": "NmpqcuGREt74",
        "outputId": "118f5a54-80f4-45d9-d94c-8be7f963533c"
      },
      "source": [
        "# Total count of target classes or 'Sentiments' \n",
        "len(y_oversample)"
      ],
      "execution_count": 6,
      "outputs": [
        {
          "output_type": "execute_result",
          "data": {
            "text/plain": [
              "8589"
            ]
          },
          "metadata": {
            "tags": []
          },
          "execution_count": 6
        }
      ]
    },
    {
      "cell_type": "code",
      "metadata": {
        "colab": {
          "base_uri": "https://localhost:8080/"
        },
        "id": "Ns7DnXcoQmtb",
        "outputId": "05519baa-125f-429f-86c4-98b274bef081"
      },
      "source": [
        "# Total number of reviews features with classes \n",
        "X_oversample.shape"
      ],
      "execution_count": 7,
      "outputs": [
        {
          "output_type": "execute_result",
          "data": {
            "text/plain": [
              "(8589, 11259)"
            ]
          },
          "metadata": {
            "tags": []
          },
          "execution_count": 7
        }
      ]
    },
    {
      "cell_type": "code",
      "metadata": {
        "colab": {
          "base_uri": "https://localhost:8080/"
        },
        "id": "wc4CtATPI9X1",
        "outputId": "f6366150-d208-4325-d8bd-a76d7caa01bf"
      },
      "source": [
        "# Count of Sentiments or target classes \n",
        "import collections, numpy\n",
        "collections.Counter(y_oversample)"
      ],
      "execution_count": 8,
      "outputs": [
        {
          "output_type": "execute_result",
          "data": {
            "text/plain": [
              "Counter({0: 2863, 1: 2863, 2: 2863})"
            ]
          },
          "metadata": {
            "tags": []
          },
          "execution_count": 8
        }
      ]
    },
    {
      "cell_type": "code",
      "metadata": {
        "colab": {
          "base_uri": "https://localhost:8080/",
          "height": 383
        },
        "id": "6rNThs_BEHX7",
        "outputId": "f843fd93-0372-48b7-e1e7-4eed1ebbc412"
      },
      "source": [
        "# Sentiments across reviews \n",
        "import seaborn as sns \n",
        "import matplotlib.pyplot as plt\n",
        "from wordcloud import WordCloud\n",
        "sns.displot(y_oversample, kde = False,  label = \"VADER\")\n",
        "plt.xlabel(\"Number of sentiments\")\n",
        "plt.ylabel(\"Number of reviews\")\n",
        "plt.legend()\n",
        "plt.show()"
      ],
      "execution_count": 9,
      "outputs": [
        {
          "output_type": "display_data",
          "data": {
            "image/png": "[encoded data removed]",
            "text/plain": [
              "<Figure size 360x360 with 1 Axes>"
            ]
          },
          "metadata": {
            "tags": [],
            "needs_background": "light"
          }
        }
      ]
    },
    {
      "cell_type": "code",
      "metadata": {
        "id": "KwVafrSnvYdJ"
      },
      "source": [
        "# Split data into train & test \n",
        "def split_into_words(i):\n",
        "    return (i.split(\" \"))"
      ],
      "execution_count": 10,
      "outputs": []
    },
    {
      "cell_type": "code",
      "metadata": {
        "id": "X9Gb3X1VSeuZ"
      },
      "source": [
        "seed = 7"
      ],
      "execution_count": 11,
      "outputs": []
    },
    {
      "cell_type": "code",
      "metadata": {
        "id": "iV2oNo0zvYi8"
      },
      "source": [
        "from sklearn.model_selection import train_test_split\n",
        "x_train,x_test,y_train,y_test = train_test_split(X_oversample,y_oversample,test_size=0.2)"
      ],
      "execution_count": 12,
      "outputs": []
    },
    {
      "cell_type": "code",
      "metadata": {
        "colab": {
          "base_uri": "https://localhost:8080/"
        },
        "id": "csDCzbgDUmG1",
        "outputId": "b4c00d78-7d74-4fd4-9f5a-c8d78b12a44c"
      },
      "source": [
        "x_train.shape"
      ],
      "execution_count": 13,
      "outputs": [
        {
          "output_type": "execute_result",
          "data": {
            "text/plain": [
              "(6871, 11259)"
            ]
          },
          "metadata": {
            "tags": []
          },
          "execution_count": 13
        }
      ]
    },
    {
      "cell_type": "code",
      "metadata": {
        "colab": {
          "base_uri": "https://localhost:8080/"
        },
        "id": "j1btYtz2VAOx",
        "outputId": "72ae9974-4dc1-4442-e80a-0b22177a9ad7"
      },
      "source": [
        "y_train.shape"
      ],
      "execution_count": 14,
      "outputs": [
        {
          "output_type": "execute_result",
          "data": {
            "text/plain": [
              "(6871,)"
            ]
          },
          "metadata": {
            "tags": []
          },
          "execution_count": 14
        }
      ]
    },
    {
      "cell_type": "code",
      "metadata": {
        "colab": {
          "base_uri": "https://localhost:8080/"
        },
        "id": "-z-oeFcPUzKG",
        "outputId": "38ea958f-47a7-47ae-a417-e61a6b518644"
      },
      "source": [
        "x_test.shape"
      ],
      "execution_count": 15,
      "outputs": [
        {
          "output_type": "execute_result",
          "data": {
            "text/plain": [
              "(1718, 11259)"
            ]
          },
          "metadata": {
            "tags": []
          },
          "execution_count": 15
        }
      ]
    },
    {
      "cell_type": "code",
      "metadata": {
        "colab": {
          "base_uri": "https://localhost:8080/"
        },
        "id": "LIzFZreoVJkK",
        "outputId": "08718aff-a460-41d3-ca7f-684c82d34cc3"
      },
      "source": [
        "y_test.shape"
      ],
      "execution_count": 16,
      "outputs": [
        {
          "output_type": "execute_result",
          "data": {
            "text/plain": [
              "(1718,)"
            ]
          },
          "metadata": {
            "tags": []
          },
          "execution_count": 16
        }
      ]
    },
    {
      "source": [
        "# K-Nearest Neighbours Classifier "
      ],
      "cell_type": "markdown",
      "metadata": {}
    },
    {
      "cell_type": "code",
      "metadata": {
        "id": "QnDrQdgBAA6z"
      },
      "source": [
        "## Nearest Neighbours algorithms\n",
        "# K-Nearest Neighbors Classifier \n",
        "from sklearn.neighbors import KNeighborsClassifier\n",
        "model14 = KNeighborsClassifier(n_neighbors=2, n_jobs=-1)\n",
        "RgCV_clf= model14.fit(x_train, y_train)"
      ],
      "execution_count": 22,
      "outputs": []
    },
    {
      "cell_type": "code",
      "metadata": {
        "colab": {
          "base_uri": "https://localhost:8080/"
        },
        "id": "XVwj97WoABAV",
        "outputId": "9b0d4105-ad9c-4c61-9a87-02862ba8d225"
      },
      "source": [
        "# Testing Accuracy of K-Nearest Neighbors Classifier  \n",
        "import numpy as np\n",
        "predicted26 = RgCV_clf.predict(x_test)\n",
        "np.mean(predicted26 == y_test)"
      ],
      "execution_count": 23,
      "outputs": [
        {
          "output_type": "execute_result",
          "data": {
            "text/plain": [
              "0.6676367869615832"
            ]
          },
          "metadata": {
            "tags": []
          },
          "execution_count": 23
        }
      ]
    },
    {
      "cell_type": "code",
      "metadata": {
        "id": "LpJ4VlW8ABHS",
        "colab": {
          "base_uri": "https://localhost:8080/"
        },
        "outputId": "94b1d589-c0fa-4041-cf01-672b1929fbd6"
      },
      "source": [
        "# Training Accuracy of K-Nearest Neighbors Classifier \n",
        "import numpy as np\n",
        "predicted27 = RgCV_clf.predict(x_train) \n",
        "np.mean(predicted27 == y_train)"
      ],
      "execution_count": 24,
      "outputs": [
        {
          "output_type": "execute_result",
          "data": {
            "text/plain": [
              "0.9131130839761316"
            ]
          },
          "metadata": {
            "tags": []
          },
          "execution_count": 24
        }
      ]
    },
    {
      "cell_type": "code",
      "metadata": {
        "id": "DB2n7HDUABM2",
        "colab": {
          "base_uri": "https://localhost:8080/"
        },
        "outputId": "8a4c462f-1ace-44a1-f273-e02bd0b940c7"
      },
      "source": [
        "# Testing classification report \n",
        "import seaborn as sns\n",
        "from sklearn import metrics\n",
        "print(metrics.classification_report(y_test, predicted26))"
      ],
      "execution_count": 25,
      "outputs": [
        {
          "output_type": "stream",
          "text": [
            "              precision    recall  f1-score   support\n",
            "\n",
            "           0       0.74      1.00      0.85       552\n",
            "           1       1.00      0.10      0.19       617\n",
            "           2       0.59      0.97      0.73       549\n",
            "\n",
            "    accuracy                           0.67      1718\n",
            "   macro avg       0.77      0.69      0.59      1718\n",
            "weighted avg       0.78      0.67      0.57      1718\n",
            "\n"
          ],
          "name": "stdout"
        }
      ]
    },
    {
      "cell_type": "code",
      "metadata": {
        "id": "uf6OPAj0ABT0",
        "colab": {
          "base_uri": "https://localhost:8080/"
        },
        "outputId": "28e32d3a-a1ab-4527-cae9-3c3acbcc58fa"
      },
      "source": [
        "# Training classification report \n",
        "import seaborn as sns\n",
        "from sklearn import metrics\n",
        "print(metrics.classification_report(y_train, predicted27))"
      ],
      "execution_count": 26,
      "outputs": [
        {
          "output_type": "stream",
          "text": [
            "              precision    recall  f1-score   support\n",
            "\n",
            "           0       0.79      1.00      0.89      2311\n",
            "           1       1.00      0.75      0.86      2246\n",
            "           2       1.00      0.98      0.99      2314\n",
            "\n",
            "    accuracy                           0.91      6871\n",
            "   macro avg       0.93      0.91      0.91      6871\n",
            "weighted avg       0.93      0.91      0.91      6871\n",
            "\n"
          ],
          "name": "stdout"
        }
      ]
    },
    {
      "cell_type": "code",
      "metadata": {
        "id": "2_IDPAoLLpsF"
      },
      "source": [],
      "execution_count": null,
      "outputs": []
    },
    {
      "cell_type": "code",
      "metadata": {
        "id": "KZJQnZzBLp2a"
      },
      "source": [],
      "execution_count": null,
      "outputs": []
    },
    {
      "cell_type": "code",
      "metadata": {
        "id": "K0_w2h2HLp9V"
      },
      "source": [],
      "execution_count": null,
      "outputs": []
    },
    {
      "cell_type": "code",
      "metadata": {
        "id": "u2Ve3CVdLqEP"
      },
      "source": [],
      "execution_count": null,
      "outputs": []
    },
    {
      "cell_type": "code",
      "metadata": {
        "id": "_Qt9RrHZLqLV"
      },
      "source": [],
      "execution_count": null,
      "outputs": []
    },
    {
      "cell_type": "code",
      "metadata": {
        "id": "9ZEjQ3n-LqSQ"
      },
      "source": [],
      "execution_count": null,
      "outputs": []
    },
    {
      "cell_type": "code",
      "metadata": {
        "id": "NInDPzgILqZF"
      },
      "source": [],
      "execution_count": null,
      "outputs": []
    },
    {
      "cell_type": "code",
      "metadata": {
        "id": "vmI4QezgLqf9"
      },
      "source": [],
      "execution_count": null,
      "outputs": []
    },
    {
      "cell_type": "code",
      "metadata": {
        "id": "HT1bv3J9Lqmw"
      },
      "source": [],
      "execution_count": null,
      "outputs": []
    },
    {
      "cell_type": "code",
      "metadata": {
        "id": "WTqJrvQoLqtu"
      },
      "source": [],
      "execution_count": null,
      "outputs": []
    },
    {
      "cell_type": "code",
      "metadata": {
        "id": "4FYZ2V3qLq0s"
      },
      "source": [],
      "execution_count": null,
      "outputs": []
    },
    {
      "cell_type": "code",
      "metadata": {
        "id": "oSWZvkl3Ls8o"
      },
      "source": [],
      "execution_count": null,
      "outputs": []
    },
    {
      "cell_type": "code",
      "metadata": {
        "id": "beAizqtPLtNi"
      },
      "source": [],
      "execution_count": null,
      "outputs": []
    },
    {
      "cell_type": "code",
      "metadata": {
        "id": "MpQ9YdxNLtW0"
      },
      "source": [],
      "execution_count": null,
      "outputs": []
    },
    {
      "cell_type": "code",
      "metadata": {
        "id": "cO9PyR1SLtfb"
      },
      "source": [],
      "execution_count": null,
      "outputs": []
    },
    {
      "cell_type": "code",
      "metadata": {
        "id": "HtyxXXOkLtmQ"
      },
      "source": [],
      "execution_count": null,
      "outputs": []
    },
    {
      "cell_type": "code",
      "metadata": {
        "id": "54O7yhYVLttg"
      },
      "source": [],
      "execution_count": null,
      "outputs": []
    },
    {
      "cell_type": "code",
      "metadata": {
        "id": "8o8GkVnzLt4A"
      },
      "source": [],
      "execution_count": null,
      "outputs": []
    },
    {
      "cell_type": "code",
      "metadata": {
        "id": "Ktn9N1kKLt-2"
      },
      "source": [],
      "execution_count": null,
      "outputs": []
    },
    {
      "cell_type": "code",
      "metadata": {
        "id": "dcy5J-T7LuF1"
      },
      "source": [],
      "execution_count": null,
      "outputs": []
    },
    {
      "cell_type": "code",
      "metadata": {
        "id": "aoZz6lelLuM5"
      },
      "source": [],
      "execution_count": null,
      "outputs": []
    },
    {
      "cell_type": "code",
      "metadata": {
        "id": "xxn12QbaLuT5"
      },
      "source": [],
      "execution_count": null,
      "outputs": []
    },
    {
      "cell_type": "code",
      "metadata": {
        "id": "8zFB7gGoLubB"
      },
      "source": [],
      "execution_count": null,
      "outputs": []
    },
    {
      "cell_type": "code",
      "metadata": {
        "id": "sz20UTNBLuiQ"
      },
      "source": [],
      "execution_count": null,
      "outputs": []
    },
    {
      "cell_type": "code",
      "metadata": {
        "id": "caRYkQNrLupZ"
      },
      "source": [],
      "execution_count": null,
      "outputs": []
    },
    {
      "cell_type": "code",
      "metadata": {
        "id": "jyM8r9qSLuwj"
      },
      "source": [],
      "execution_count": null,
      "outputs": []
    },
    {
      "cell_type": "code",
      "metadata": {
        "id": "6ZcfhWSeLu39"
      },
      "source": [],
      "execution_count": null,
      "outputs": []
    },
    {
      "cell_type": "code",
      "metadata": {
        "id": "1Oaw2c-nLu_S"
      },
      "source": [],
      "execution_count": null,
      "outputs": []
    },
    {
      "cell_type": "code",
      "metadata": {
        "id": "8G6lPwfkLvGz"
      },
      "source": [],
      "execution_count": null,
      "outputs": []
    },
    {
      "cell_type": "code",
      "metadata": {
        "id": "jBNVChm6LvOW"
      },
      "source": [],
      "execution_count": null,
      "outputs": []
    },
    {
      "cell_type": "code",
      "metadata": {
        "id": "lx6C2jdELvVy"
      },
      "source": [],
      "execution_count": null,
      "outputs": []
    },
    {
      "cell_type": "code",
      "metadata": {
        "id": "ImcNwB0NLvdK"
      },
      "source": [],
      "execution_count": null,
      "outputs": []
    },
    {
      "cell_type": "code",
      "metadata": {
        "id": "V4UsXYj8Lvkc"
      },
      "source": [],
      "execution_count": null,
      "outputs": []
    },
    {
      "cell_type": "code",
      "metadata": {
        "id": "hr7AXOFrLvsL"
      },
      "source": [],
      "execution_count": null,
      "outputs": []
    },
    {
      "cell_type": "code",
      "metadata": {
        "id": "pihHciHdLv2K"
      },
      "source": [],
      "execution_count": null,
      "outputs": []
    },
    {
      "cell_type": "code",
      "metadata": {
        "id": "yjAzOGk8Lv-Q"
      },
      "source": [],
      "execution_count": null,
      "outputs": []
    },
    {
      "cell_type": "code",
      "metadata": {
        "id": "jwkoOdFQLwGU"
      },
      "source": [],
      "execution_count": null,
      "outputs": []
    },
    {
      "cell_type": "code",
      "metadata": {
        "id": "bWMZbuBTLwOd"
      },
      "source": [],
      "execution_count": null,
      "outputs": []
    },
    {
      "cell_type": "code",
      "metadata": {
        "id": "V2mE6axSAGlx"
      },
      "source": [],
      "execution_count": null,
      "outputs": []
    },
    {
      "cell_type": "code",
      "metadata": {
        "id": "o8fNi9fdAGsH"
      },
      "source": [],
      "execution_count": null,
      "outputs": []
    },
    {
      "cell_type": "code",
      "metadata": {
        "id": "e7Hr1tP9AGx6"
      },
      "source": [],
      "execution_count": null,
      "outputs": []
    },
    {
      "cell_type": "code",
      "metadata": {
        "id": "UcNvAvD3AG31"
      },
      "source": [],
      "execution_count": null,
      "outputs": []
    }
  ]
}