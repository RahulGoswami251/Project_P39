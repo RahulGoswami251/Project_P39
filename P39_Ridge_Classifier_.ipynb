{
  "nbformat": 4,
  "nbformat_minor": 0,
  "metadata": {
    "colab": {
      "name": "P39_Ridge Classifier .ipynb",
      "provenance": [],
      "collapsed_sections": []
    },
    "kernelspec": {
      "display_name": "Python 3",
      "language": "python",
      "name": "python3"
    },
    "language_info": {
      "codemirror_mode": {
        "name": "ipython",
        "version": 3
      },
      "file_extension": ".py",
      "mimetype": "text/x-python",
      "name": "python",
      "nbconvert_exporter": "python",
      "pygments_lexer": "ipython3",
      "version": "3.8.5"
    }
  },
  "cells": [
    {
      "source": [
        "# Model Building Process "
      ],
      "cell_type": "markdown",
      "metadata": {}
    },
    {
      "cell_type": "code",
      "metadata": {
        "id": "azc5EjqtAfXi"
      },
      "source": [
        "# Import model data set \n",
        "import pandas as pd\n",
        "df = pd.read_csv(\"Model_data.csv\")"
      ],
      "execution_count": 1,
      "outputs": []
    },
    {
      "cell_type": "code",
      "metadata": {
        "colab": {
          "base_uri": "https://localhost:8080/"
        },
        "id": "qUYwPLok1MSv",
        "outputId": "216eef9e-143b-4ea7-b99d-c71793da9ac5"
      },
      "source": [
        "## Applying CountVectorizer & TFIDF \n",
        "# Extracting features by CountVectorizer from reviews \n",
        "from sklearn.feature_extraction.text import CountVectorizer\n",
        "count_vect = CountVectorizer()\n",
        "reviews_feature_cv = count_vect.fit_transform(df.JwMarriot_reviews).toarray()\n",
        "reviews_feature_cv.shape"
      ],
      "execution_count": 2,
      "outputs": [
        {
          "output_type": "execute_result",
          "data": {
            "text/plain": [
              "(3000, 11259)"
            ]
          },
          "metadata": {
            "tags": []
          },
          "execution_count": 2
        }
      ]
    },
    {
      "cell_type": "code",
      "metadata": {
        "colab": {
          "base_uri": "https://localhost:8080/"
        },
        "id": "yeaFEIznGOT1",
        "outputId": "b295efd1-8646-4311-d7b9-901f98c3286c"
      },
      "source": [
        "# Extracting features by TFIDF from reviews\n",
        "from sklearn.feature_extraction.text import TfidfTransformer\n",
        "tfidf_transformer = TfidfTransformer()\n",
        "reviews_feature_tfidf = tfidf_transformer.fit_transform(reviews_feature_cv).toarray()\n",
        "reviews_feature_tfidf.shape"
      ],
      "execution_count": 3,
      "outputs": [
        {
          "output_type": "execute_result",
          "data": {
            "text/plain": [
              "(3000, 11259)"
            ]
          },
          "metadata": {
            "tags": []
          },
          "execution_count": 3
        }
      ]
    },
    {
      "cell_type": "code",
      "metadata": {
        "id": "Hob7kHxr50dT",
        "colab": {
          "base_uri": "https://localhost:8080/"
        },
        "outputId": "ae9681a8-bc68-40e1-ad09-77cdee2a91ca"
      },
      "source": [
        "## Aplying SMOTE oversampling technique for removing class imbalance \n",
        "from imblearn.over_sampling import SMOTE\n",
        "over_sample = SMOTE(random_state = 50, sampling_strategy = \"all\")"
      ],
      "execution_count": 4,
      "outputs": [
        {
          "output_type": "stream",
          "text": [
            "/usr/local/lib/python3.6/dist-packages/sklearn/externals/six.py:31: FutureWarning: The module is deprecated in version 0.21 and will be removed in version 0.23 since we've dropped support for Python 2.7. Please rely on the official version of six (https://pypi.org/project/six/).\n",
            "  \"(https://pypi.org/project/six/).\", FutureWarning)\n",
            "/usr/local/lib/python3.6/dist-packages/sklearn/utils/deprecation.py:144: FutureWarning: The sklearn.neighbors.base module is  deprecated in version 0.22 and will be removed in version 0.24. The corresponding classes / functions should instead be imported from sklearn.neighbors. Anything that cannot be imported from sklearn.neighbors is now part of the private API.\n",
            "  warnings.warn(message, FutureWarning)\n"
          ],
          "name": "stderr"
        }
      ]
    },
    {
      "cell_type": "code",
      "metadata": {
        "colab": {
          "base_uri": "https://localhost:8080/"
        },
        "id": "roubRh0K50ts",
        "outputId": "4fedcbd1-4380-4045-9017-cb588f2218c2"
      },
      "source": [
        "X_oversample, y_oversample = over_sample.fit_sample(reviews_feature_cv, df['Sentiments']) "
      ],
      "execution_count": 5,
      "outputs": [
        {
          "output_type": "stream",
          "text": [
            "/usr/local/lib/python3.6/dist-packages/sklearn/utils/deprecation.py:87: FutureWarning: Function safe_indexing is deprecated; safe_indexing is deprecated in version 0.22 and will be removed in version 0.24.\n",
            "  warnings.warn(msg, category=FutureWarning)\n",
            "/usr/local/lib/python3.6/dist-packages/sklearn/utils/deprecation.py:87: FutureWarning: Function safe_indexing is deprecated; safe_indexing is deprecated in version 0.22 and will be removed in version 0.24.\n",
            "  warnings.warn(msg, category=FutureWarning)\n"
          ],
          "name": "stderr"
        }
      ]
    },
    {
      "cell_type": "code",
      "metadata": {
        "colab": {
          "base_uri": "https://localhost:8080/"
        },
        "id": "NmpqcuGREt74",
        "outputId": "fd40f535-3e33-4ca3-e482-a21d138cfb20"
      },
      "source": [
        "# Total count of target classes or 'Sentiments' \n",
        "len(y_oversample)"
      ],
      "execution_count": 6,
      "outputs": [
        {
          "output_type": "execute_result",
          "data": {
            "text/plain": [
              "8589"
            ]
          },
          "metadata": {
            "tags": []
          },
          "execution_count": 6
        }
      ]
    },
    {
      "cell_type": "code",
      "metadata": {
        "colab": {
          "base_uri": "https://localhost:8080/"
        },
        "id": "Ns7DnXcoQmtb",
        "outputId": "f688f85a-30f4-4509-9de7-c823c6de06c3"
      },
      "source": [
        "# Total number of reviews features with classes \n",
        "X_oversample.shape"
      ],
      "execution_count": 7,
      "outputs": [
        {
          "output_type": "execute_result",
          "data": {
            "text/plain": [
              "(8589, 11259)"
            ]
          },
          "metadata": {
            "tags": []
          },
          "execution_count": 7
        }
      ]
    },
    {
      "cell_type": "code",
      "metadata": {
        "colab": {
          "base_uri": "https://localhost:8080/"
        },
        "id": "wc4CtATPI9X1",
        "outputId": "143111a4-3549-4773-939d-3a0246247086"
      },
      "source": [
        "# Count of Sentiments or target classes \n",
        "import collections, numpy\n",
        "collections.Counter(y_oversample)"
      ],
      "execution_count": 8,
      "outputs": [
        {
          "output_type": "execute_result",
          "data": {
            "text/plain": [
              "Counter({0: 2863, 1: 2863, 2: 2863})"
            ]
          },
          "metadata": {
            "tags": []
          },
          "execution_count": 8
        }
      ]
    },
    {
      "cell_type": "code",
      "metadata": {
        "colab": {
          "base_uri": "https://localhost:8080/",
          "height": 383
        },
        "id": "6rNThs_BEHX7",
        "outputId": "f8630d7e-e616-4a05-ac80-eb015e3f86d1"
      },
      "source": [
        "# Sentiments across reviews \n",
        "import seaborn as sns \n",
        "import matplotlib.pyplot as plt\n",
        "from wordcloud import WordCloud\n",
        "sns.displot(y_oversample, kde = False,  label = \"VADER\")\n",
        "plt.xlabel(\"Number of sentiments\")\n",
        "plt.ylabel(\"Number of reviews\")\n",
        "plt.legend()\n",
        "plt.show()"
      ],
      "execution_count": 9,
      "outputs": [
        {
          "output_type": "display_data",
          "data": {
            "image/png": "[encoded data removed]",
            "text/plain": [
              "<Figure size 360x360 with 1 Axes>"
            ]
          },
          "metadata": {
            "tags": [],
            "needs_background": "light"
          }
        }
      ]
    },
    {
      "cell_type": "code",
      "metadata": {
        "id": "KwVafrSnvYdJ"
      },
      "source": [
        "# Split data into train & test \n",
        "def split_into_words(i):\n",
        "    return (i.split(\" \"))"
      ],
      "execution_count": 10,
      "outputs": []
    },
    {
      "cell_type": "code",
      "metadata": {
        "id": "X9Gb3X1VSeuZ"
      },
      "source": [
        "seed = 7"
      ],
      "execution_count": 11,
      "outputs": []
    },
    {
      "cell_type": "code",
      "metadata": {
        "id": "iV2oNo0zvYi8"
      },
      "source": [
        "from sklearn.model_selection import train_test_split\n",
        "x_train,x_test,y_train,y_test = train_test_split(X_oversample,y_oversample,test_size=0.2)"
      ],
      "execution_count": 12,
      "outputs": []
    },
    {
      "cell_type": "code",
      "metadata": {
        "colab": {
          "base_uri": "https://localhost:8080/"
        },
        "id": "csDCzbgDUmG1",
        "outputId": "3939aa93-6184-46fd-a3c2-2ef8765b0935"
      },
      "source": [
        "x_train.shape"
      ],
      "execution_count": 13,
      "outputs": [
        {
          "output_type": "execute_result",
          "data": {
            "text/plain": [
              "(6871, 11259)"
            ]
          },
          "metadata": {
            "tags": []
          },
          "execution_count": 13
        }
      ]
    },
    {
      "cell_type": "code",
      "metadata": {
        "colab": {
          "base_uri": "https://localhost:8080/"
        },
        "id": "j1btYtz2VAOx",
        "outputId": "5b7a6ac4-44e5-4b8a-895c-25beb8493ee6"
      },
      "source": [
        "y_train.shape"
      ],
      "execution_count": 14,
      "outputs": [
        {
          "output_type": "execute_result",
          "data": {
            "text/plain": [
              "(6871,)"
            ]
          },
          "metadata": {
            "tags": []
          },
          "execution_count": 14
        }
      ]
    },
    {
      "cell_type": "code",
      "metadata": {
        "colab": {
          "base_uri": "https://localhost:8080/"
        },
        "id": "-z-oeFcPUzKG",
        "outputId": "c7404142-688a-4093-8ef2-07db493ecd02"
      },
      "source": [
        "x_test.shape"
      ],
      "execution_count": 15,
      "outputs": [
        {
          "output_type": "execute_result",
          "data": {
            "text/plain": [
              "(1718, 11259)"
            ]
          },
          "metadata": {
            "tags": []
          },
          "execution_count": 15
        }
      ]
    },
    {
      "cell_type": "code",
      "metadata": {
        "colab": {
          "base_uri": "https://localhost:8080/"
        },
        "id": "LIzFZreoVJkK",
        "outputId": "61e08c91-ec9c-48c1-9492-80b3a40ff587"
      },
      "source": [
        "y_test.shape"
      ],
      "execution_count": 16,
      "outputs": [
        {
          "output_type": "execute_result",
          "data": {
            "text/plain": [
              "(1718,)"
            ]
          },
          "metadata": {
            "tags": []
          },
          "execution_count": 16
        }
      ]
    },
    {
      "source": [
        "# Ridge Classifier"
      ],
      "cell_type": "markdown",
      "metadata": {}
    },
    {
      "cell_type": "code",
      "metadata": {
        "colab": {
          "base_uri": "https://localhost:8080/"
        },
        "id": "mQMrfWRulgOG",
        "outputId": "ed7252c8-544c-42fc-813f-1dc33360c079"
      },
      "source": [
        "# Ridge Classifier\n",
        "from sklearn.linear_model import RidgeClassifier\n",
        "model11 = RidgeClassifier(max_iter=10,solver='saga', random_state=50)\n",
        "Rd_clf = model11.fit(x_train, y_train)"
      ],
      "execution_count": 17,
      "outputs": [
        {
          "output_type": "stream",
          "text": [
            "/usr/local/lib/python3.6/dist-packages/sklearn/linear_model/_sag.py:330: ConvergenceWarning: The max_iter was reached which means the coef_ did not converge\n",
            "  \"the coef_ did not converge\", ConvergenceWarning)\n",
            "/usr/local/lib/python3.6/dist-packages/sklearn/linear_model/_sag.py:330: ConvergenceWarning: The max_iter was reached which means the coef_ did not converge\n",
            "  \"the coef_ did not converge\", ConvergenceWarning)\n",
            "/usr/local/lib/python3.6/dist-packages/sklearn/linear_model/_sag.py:330: ConvergenceWarning: The max_iter was reached which means the coef_ did not converge\n",
            "  \"the coef_ did not converge\", ConvergenceWarning)\n"
          ],
          "name": "stderr"
        }
      ]
    },
    {
      "cell_type": "code",
      "metadata": {
        "colab": {
          "base_uri": "https://localhost:8080/"
        },
        "id": "KJn4m5ILlgST",
        "outputId": "7cc2a5af-824a-4353-d0fb-77a028d1dfe5"
      },
      "source": [
        "# Testing Accuracy of Ridge Classifier \n",
        "import numpy as np\n",
        "predicted20 = Rd_clf.predict(x_test)\n",
        "np.mean(predicted20 == y_test) "
      ],
      "execution_count": 18,
      "outputs": [
        {
          "output_type": "execute_result",
          "data": {
            "text/plain": [
              "0.9621653084982538"
            ]
          },
          "metadata": {
            "tags": []
          },
          "execution_count": 18
        }
      ]
    },
    {
      "cell_type": "code",
      "metadata": {
        "colab": {
          "base_uri": "https://localhost:8080/"
        },
        "id": "QWa_xcj2lgYy",
        "outputId": "116201a7-211e-4f2f-b7f4-173e25cf0b72"
      },
      "source": [
        "# Training Accuracy of Ridge Classifier \n",
        "import numpy as np\n",
        "predicted21 = Rd_clf.predict(x_train) \n",
        "np.mean(predicted21 == y_train)"
      ],
      "execution_count": 19,
      "outputs": [
        {
          "output_type": "execute_result",
          "data": {
            "text/plain": [
              "0.9822442148158929"
            ]
          },
          "metadata": {
            "tags": []
          },
          "execution_count": 19
        }
      ]
    },
    {
      "cell_type": "code",
      "metadata": {
        "colab": {
          "base_uri": "https://localhost:8080/"
        },
        "id": "JH85H_-klggg",
        "outputId": "af95b9e6-e5d6-4530-f4cd-1da962e13f81"
      },
      "source": [
        "# Testing classification report \n",
        "import seaborn as sns\n",
        "from sklearn import metrics\n",
        "print(metrics.classification_report(y_test, predicted20))"
      ],
      "execution_count": 20,
      "outputs": [
        {
          "output_type": "stream",
          "text": [
            "              precision    recall  f1-score   support\n",
            "\n",
            "           0       0.96      0.97      0.97       539\n",
            "           1       0.99      0.93      0.96       558\n",
            "           2       0.94      0.98      0.96       621\n",
            "\n",
            "    accuracy                           0.96      1718\n",
            "   macro avg       0.96      0.96      0.96      1718\n",
            "weighted avg       0.96      0.96      0.96      1718\n",
            "\n"
          ],
          "name": "stdout"
        }
      ]
    },
    {
      "cell_type": "code",
      "metadata": {
        "colab": {
          "base_uri": "https://localhost:8080/"
        },
        "id": "w0Mc5hwhlgmf",
        "outputId": "f4cc1493-fdfa-4f94-899b-1576894d639f"
      },
      "source": [
        "# Training classification report \n",
        "import seaborn as sns\n",
        "from sklearn import metrics\n",
        "print(metrics.classification_report(y_train, predicted21))"
      ],
      "execution_count": 21,
      "outputs": [
        {
          "output_type": "stream",
          "text": [
            "              precision    recall  f1-score   support\n",
            "\n",
            "           0       0.98      0.98      0.98      2324\n",
            "           1       1.00      0.99      0.99      2305\n",
            "           2       0.97      0.98      0.98      2242\n",
            "\n",
            "    accuracy                           0.98      6871\n",
            "   macro avg       0.98      0.98      0.98      6871\n",
            "weighted avg       0.98      0.98      0.98      6871\n",
            "\n"
          ],
          "name": "stdout"
        }
      ]
    },
    {
      "cell_type": "code",
      "metadata": {
        "id": "V2mE6axSAGlx"
      },
      "source": [],
      "execution_count": null,
      "outputs": []
    },
    {
      "cell_type": "code",
      "metadata": {
        "id": "o8fNi9fdAGsH"
      },
      "source": [],
      "execution_count": null,
      "outputs": []
    },
    {
      "cell_type": "code",
      "metadata": {
        "id": "e7Hr1tP9AGx6"
      },
      "source": [],
      "execution_count": null,
      "outputs": []
    },
    {
      "cell_type": "code",
      "metadata": {
        "id": "UcNvAvD3AG31"
      },
      "source": [],
      "execution_count": null,
      "outputs": []
    }
  ]
}