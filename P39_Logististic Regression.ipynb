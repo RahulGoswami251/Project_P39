{
 "cells": [
  {
   "cell_type": "markdown",
   "metadata": {},
   "source": [
    "# Model Building Process "
   ]
  },
  {
   "cell_type": "code",
   "execution_count": 1,
   "metadata": {
    "id": "azc5EjqtAfXi"
   },
   "outputs": [],
   "source": [
    "# Import the model data set \n",
    "import pandas as pd\n",
    "df = pd.read_csv(\"Model_data.csv\")"
   ]
  },
  {
   "cell_type": "code",
   "execution_count": 2,
   "metadata": {
    "colab": {
     "base_uri": "https://localhost:8080/"
    },
    "id": "qUYwPLok1MSv",
    "outputId": "7d50c571-f0ab-4490-f0a4-71e2521e252a"
   },
   "outputs": [
    {
     "data": {
      "text/plain": [
       "(3000, 11259)"
      ]
     },
     "execution_count": 2,
     "metadata": {},
     "output_type": "execute_result"
    }
   ],
   "source": [
    "## Applying CountVectorizer & TFIDF \n",
    "# Extracting features by CountVectorizer from reviews \n",
    "from sklearn.feature_extraction.text import CountVectorizer\n",
    "count_vect = CountVectorizer()\n",
    "reviews_feature_cv = count_vect.fit_transform(df.JwMarriot_reviews).toarray()\n",
    "reviews_feature_cv.shape"
   ]
  },
  {
   "cell_type": "code",
   "execution_count": 3,
   "metadata": {
    "colab": {
     "base_uri": "https://localhost:8080/"
    },
    "id": "yeaFEIznGOT1",
    "outputId": "cf5a6545-302f-4427-865e-c82feb25a294"
   },
   "outputs": [
    {
     "data": {
      "text/plain": [
       "(3000, 11259)"
      ]
     },
     "execution_count": 3,
     "metadata": {},
     "output_type": "execute_result"
    }
   ],
   "source": [
    "# Extracting features by TFIDF from reviews\n",
    "from sklearn.feature_extraction.text import TfidfTransformer\n",
    "tfidf_transformer = TfidfTransformer()\n",
    "reviews_feature_tfidf = tfidf_transformer.fit_transform(reviews_feature_cv).toarray()\n",
    "reviews_feature_tfidf.shape"
   ]
  },
  {
   "cell_type": "code",
   "execution_count": 4,
   "metadata": {
    "id": "Hob7kHxr50dT"
   },
   "outputs": [],
   "source": [
    "## Aplying SMOTE oversampling technique for removing class imbalance \n",
    "from imblearn.over_sampling import SMOTE\n",
    "over_sample = SMOTE(random_state = 50, sampling_strategy = \"all\")"
   ]
  },
  {
   "cell_type": "code",
   "execution_count": 5,
   "metadata": {
    "colab": {
     "base_uri": "https://localhost:8080/"
    },
    "id": "roubRh0K50ts",
    "outputId": "7ab7a595-8869-4166-e3c6-08e96dcfec74"
   },
   "outputs": [],
   "source": [
    "X_oversample, y_oversample = over_sample.fit_sample(reviews_feature_cv, df['Sentiments']) "
   ]
  },
  {
   "cell_type": "code",
   "execution_count": 6,
   "metadata": {
    "colab": {
     "base_uri": "https://localhost:8080/"
    },
    "id": "NmpqcuGREt74",
    "outputId": "f1fa9a50-410b-4eb4-f4e0-a6a622f60e6b"
   },
   "outputs": [
    {
     "data": {
      "text/plain": [
       "8589"
      ]
     },
     "execution_count": 6,
     "metadata": {},
     "output_type": "execute_result"
    }
   ],
   "source": [
    "# Total count of target classes or 'Sentiments' \n",
    "len(y_oversample)"
   ]
  },
  {
   "cell_type": "code",
   "execution_count": 7,
   "metadata": {
    "colab": {
     "base_uri": "https://localhost:8080/"
    },
    "id": "Ns7DnXcoQmtb",
    "outputId": "6115a75a-6119-468e-8d92-e1cb2bee2e1d"
   },
   "outputs": [
    {
     "data": {
      "text/plain": [
       "(8589, 11259)"
      ]
     },
     "execution_count": 7,
     "metadata": {},
     "output_type": "execute_result"
    }
   ],
   "source": [
    "# Total number of reviews features with classes \n",
    "X_oversample.shape"
   ]
  },
  {
   "cell_type": "code",
   "execution_count": 8,
   "metadata": {
    "colab": {
     "base_uri": "https://localhost:8080/"
    },
    "id": "wc4CtATPI9X1",
    "outputId": "5fc44fce-eaf7-47cf-ccb6-14136d5810ba"
   },
   "outputs": [
    {
     "data": {
      "text/plain": [
       "Counter({1: 2863, 2: 2863, 0: 2863})"
      ]
     },
     "execution_count": 8,
     "metadata": {},
     "output_type": "execute_result"
    }
   ],
   "source": [
    "# Count of Sentiments or target classes \n",
    "import collections, numpy\n",
    "collections.Counter(y_oversample)"
   ]
  },
  {
   "cell_type": "code",
   "execution_count": 9,
   "metadata": {
    "colab": {
     "base_uri": "https://localhost:8080/",
     "height": 383
    },
    "id": "6rNThs_BEHX7",
    "outputId": "fca18d59-090a-4e48-e40c-9a91d7c786d4"
   },
   "outputs": [
    {
     "data": {
      "image/png": "[encoded data removed]",
      "text/plain": [
       "<Figure size 360x360 with 1 Axes>"
      ]
     },
     "metadata": {
      "needs_background": "light"
     },
     "output_type": "display_data"
    }
   ],
   "source": [
    "# Sentiments across reviews \n",
    "import seaborn as sns \n",
    "import matplotlib.pyplot as plt\n",
    "from wordcloud import WordCloud\n",
    "sns.displot(y_oversample, kde = False,  label = \"VADER\")\n",
    "plt.xlabel(\"Number of sentiments\")\n",
    "plt.ylabel(\"Number of reviews\")\n",
    "plt.legend()\n",
    "plt.show()"
   ]
  },
  {
   "cell_type": "code",
   "execution_count": 10,
   "metadata": {
    "id": "KwVafrSnvYdJ"
   },
   "outputs": [],
   "source": [
    "# Split data into train & test \n",
    "def split_into_words(i):\n",
    "    return (i.split(\" \"))"
   ]
  },
  {
   "cell_type": "code",
   "execution_count": 11,
   "metadata": {
    "id": "X9Gb3X1VSeuZ"
   },
   "outputs": [],
   "source": [
    "seed = 7"
   ]
  },
  {
   "cell_type": "code",
   "execution_count": 12,
   "metadata": {
    "id": "iV2oNo0zvYi8"
   },
   "outputs": [],
   "source": [
    "from sklearn.model_selection import train_test_split\n",
    "x_train,x_test,y_train,y_test = train_test_split(X_oversample,y_oversample,test_size=0.2)"
   ]
  },
  {
   "cell_type": "code",
   "execution_count": 13,
   "metadata": {
    "colab": {
     "base_uri": "https://localhost:8080/"
    },
    "id": "csDCzbgDUmG1",
    "outputId": "2fd49a6f-55ba-4dae-cc83-d8a81e89fab0"
   },
   "outputs": [
    {
     "data": {
      "text/plain": [
       "(6871, 11259)"
      ]
     },
     "execution_count": 13,
     "metadata": {},
     "output_type": "execute_result"
    }
   ],
   "source": [
    "x_train.shape"
   ]
  },
  {
   "cell_type": "code",
   "execution_count": 14,
   "metadata": {
    "colab": {
     "base_uri": "https://localhost:8080/"
    },
    "id": "j1btYtz2VAOx",
    "outputId": "ea6b5734-fb30-4e02-f841-04faa2a37b28"
   },
   "outputs": [
    {
     "data": {
      "text/plain": [
       "(6871,)"
      ]
     },
     "execution_count": 14,
     "metadata": {},
     "output_type": "execute_result"
    }
   ],
   "source": [
    "y_train.shape"
   ]
  },
  {
   "cell_type": "code",
   "execution_count": 15,
   "metadata": {
    "colab": {
     "base_uri": "https://localhost:8080/"
    },
    "id": "-z-oeFcPUzKG",
    "outputId": "8205d172-e455-4576-c96c-6adaa1f0f292"
   },
   "outputs": [
    {
     "data": {
      "text/plain": [
       "(1718, 11259)"
      ]
     },
     "execution_count": 15,
     "metadata": {},
     "output_type": "execute_result"
    }
   ],
   "source": [
    "x_test.shape"
   ]
  },
  {
   "cell_type": "code",
   "execution_count": 16,
   "metadata": {
    "colab": {
     "base_uri": "https://localhost:8080/"
    },
    "id": "LIzFZreoVJkK",
    "outputId": "351b2e6d-fde8-4404-b607-78cfe56f6596"
   },
   "outputs": [
    {
     "data": {
      "text/plain": [
       "(1718,)"
      ]
     },
     "execution_count": 16,
     "metadata": {},
     "output_type": "execute_result"
    }
   ],
   "source": [
    "y_test.shape"
   ]
  },
  {
   "source": [
    "# Logistic Regression Classifier "
   ],
   "cell_type": "markdown",
   "metadata": {}
  },
  {
   "cell_type": "code",
   "execution_count": 17,
   "metadata": {
    "id": "HD5YJeRClfRL"
   },
   "outputs": [],
   "source": [
    "# Logististic Regression Classifier \n",
    "from sklearn.linear_model import LogisticRegression\n",
    "model9 = LogisticRegression(random_state=50)\n",
    "LR_clf = model9.fit(x_train, y_train)"
   ]
  },
  {
   "cell_type": "code",
   "execution_count": 18,
   "metadata": {
    "colab": {
     "base_uri": "https://localhost:8080/"
    },
    "id": "mdOVT5WAlfVf",
    "outputId": "0af06e4f-6e16-4784-c7e8-79c185849258"
   },
   "outputs": [
    {
     "data": {
      "text/plain": [
       "0.9755529685681025"
      ]
     },
     "execution_count": 18,
     "metadata": {},
     "output_type": "execute_result"
    }
   ],
   "source": [
    "# Testing Accuracy of Logististic Regression Classifier \n",
    "import numpy as np\n",
    "predicted16 = LR_clf.predict(x_test)\n",
    "np.mean(predicted16 == y_test) "
   ]
  },
  {
   "cell_type": "code",
   "execution_count": 19,
   "metadata": {
    "colab": {
     "base_uri": "https://localhost:8080/"
    },
    "id": "5PE0KO6LlfZ2",
    "outputId": "cb04bdf9-34ce-4040-bd7e-88cb888db6ec"
   },
   "outputs": [
    {
     "data": {
      "text/plain": [
       "0.9933051957502547"
      ]
     },
     "execution_count": 19,
     "metadata": {},
     "output_type": "execute_result"
    }
   ],
   "source": [
    "# Training Accuracy of Logististic Regression Classifier \n",
    "import numpy as np\n",
    "predicted17 = LR_clf.predict(x_train) \n",
    "np.mean(predicted17 == y_train)"
   ]
  },
  {
   "cell_type": "code",
   "execution_count": 20,
   "metadata": {
    "colab": {
     "base_uri": "https://localhost:8080/"
    },
    "id": "sTUC8CCDlfeM",
    "outputId": "e6273008-80db-466c-d831-f0f880634792"
   },
   "outputs": [
    {
     "name": "stdout",
     "output_type": "stream",
     "text": [
      "              precision    recall  f1-score   support\n",
      "\n",
      "           0       0.96      0.99      0.98       596\n",
      "           1       0.98      0.98      0.98       556\n",
      "           2       0.98      0.96      0.97       566\n",
      "\n",
      "    accuracy                           0.98      1718\n",
      "   macro avg       0.98      0.98      0.98      1718\n",
      "weighted avg       0.98      0.98      0.98      1718\n",
      "\n"
     ]
    }
   ],
   "source": [
    "# Testing classification report \n",
    "import seaborn as sns\n",
    "from sklearn import metrics\n",
    "print(metrics.classification_report(y_test, predicted16))"
   ]
  },
  {
   "cell_type": "code",
   "execution_count": 21,
   "metadata": {
    "colab": {
     "base_uri": "https://localhost:8080/"
    },
    "id": "fu6w_uiTlfon",
    "outputId": "222aa175-9c68-4cf0-a7df-a0bf9faa7d62"
   },
   "outputs": [
    {
     "name": "stdout",
     "output_type": "stream",
     "text": [
      "              precision    recall  f1-score   support\n",
      "\n",
      "           0       0.98      1.00      0.99      2267\n",
      "           1       1.00      1.00      1.00      2307\n",
      "           2       1.00      0.98      0.99      2297\n",
      "\n",
      "    accuracy                           0.99      6871\n",
      "   macro avg       0.99      0.99      0.99      6871\n",
      "weighted avg       0.99      0.99      0.99      6871\n",
      "\n"
     ]
    }
   ],
   "source": [
    "# Training classification report \n",
    "import seaborn as sns\n",
    "from sklearn import metrics\n",
    "print(metrics.classification_report(y_train, predicted17))"
   ]
  },
  {
   "cell_type": "code",
   "execution_count": null,
   "metadata": {},
   "outputs": [],
   "source": []
  },
  {
   "cell_type": "code",
   "execution_count": null,
   "metadata": {},
   "outputs": [],
   "source": []
  },
  {
   "cell_type": "code",
   "execution_count": null,
   "metadata": {},
   "outputs": [],
   "source": []
  },
  {
   "cell_type": "code",
   "execution_count": null,
   "metadata": {},
   "outputs": [],
   "source": []
  }
 ],
 "metadata": {
  "colab": {
   "collapsed_sections": [],
   "name": "Review_Classification_P39.ipynb",
   "provenance": []
  },
  "kernelspec": {
   "display_name": "Python 3",
   "language": "python",
   "name": "python3"
  },
  "language_info": {
   "codemirror_mode": {
    "name": "ipython",
    "version": 3
   },
   "file_extension": ".py",
   "mimetype": "text/x-python",
   "name": "python",
   "nbconvert_exporter": "python",
   "pygments_lexer": "ipython3",
   "version": "3.8.5"
  }
 },
 "nbformat": 4,
 "nbformat_minor": 1
}